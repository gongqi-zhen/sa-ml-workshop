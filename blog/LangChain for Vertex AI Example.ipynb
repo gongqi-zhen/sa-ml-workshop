{
 "cells": [
  {
   "cell_type": "markdown",
   "id": "0536f479-1eaa-46bf-944a-bf5ec2d37314",
   "metadata": {},
   "source": [
    "# Google Cloud の生成 AI サービス（言語モデル）を LangChain から使用するサンプル"
   ]
  },
  {
   "cell_type": "markdown",
   "id": "122b40f9-b638-485d-b527-af12459b84e0",
   "metadata": {},
   "source": [
    "**[注意]**\n",
    "\n",
    "このノートブックは、Python 3.8 の環境に Vertex AI の SDK と LangChain のライブラリーを事前インストールした Kernel が必要です。具体的には、次の手順で用意します。\n",
    "\n",
    "1. Workbench のターミナルから次のコマンドを実行します。\n",
    "\n",
    "```\n",
    "conda create -n python38 python=3.8 -y\n",
    "conda activate python38\n",
    "conda install ipykernel -y\n",
    "ipython kernel install --user --name=python38\n",
    "pip install google-cloud-aiplatform==1.28.1 --upgrade --user\n",
    "pip install langchain==0.0.250 --user\n",
    "conda deactivate\n",
    "```\n",
    "\n",
    "2. ブラウザーをリロードして、ローンチャーを開くと ［Python38(Local)］のボタンが追加されているので、このボタンから新規のノートブックを開きます。\n"
   ]
  },
  {
   "cell_type": "markdown",
   "id": "74dbd2dd-8de4-48a2-8e28-0e5d85b350c6",
   "metadata": {},
   "source": [
    "## LangChain を用いて、基本的なパインプラインを実行する例"
   ]
  },
  {
   "cell_type": "markdown",
   "id": "e6cec88e-e2e3-4107-a035-022516fd1b9f",
   "metadata": {},
   "source": [
    "新製品の説明文から商品名のアイデアを3つ出してもらうためのプロンプトを定義します。"
   ]
  },
  {
   "cell_type": "code",
   "execution_count": 1,
   "id": "e538e143-8aa7-45ca-84a1-5b7e58e62be0",
   "metadata": {},
   "outputs": [],
   "source": [
    "from langchain import PromptTemplate\n",
    "\n",
    "template = \"\"\"\\\n",
    "You are a naming consultant for new products.\n",
    "Give me three examples of good names for a product.\n",
    "Output only names in a comma-separated list, nothing else.\n",
    "\n",
    "Here's an example.\n",
    "product: cute pens\n",
    "output: Scribble, Ink-it, Write-On\n",
    "\n",
    "Here's the real request to you.\n",
    "product: {description}\n",
    "output:\n",
    "\"\"\"\n",
    "\n",
    "prompt = PromptTemplate(template=template, input_variables=['description'])"
   ]
  },
  {
   "cell_type": "code",
   "execution_count": 2,
   "id": "fc0e43de-31e0-4aa2-876f-02a53a048700",
   "metadata": {},
   "outputs": [
    {
     "name": "stdout",
     "output_type": "stream",
     "text": [
      "You are a naming consultant for new products.\n",
      "Give me three examples of good names for a product.\n",
      "Output only names in a comma-separated list, nothing else.\n",
      "\n",
      "Here's an example.\n",
      "product: cute pens\n",
      "output: Scribble, Ink-it, Write-On\n",
      "\n",
      "Here's the real request to you.\n",
      "product: Colorful cute smartphone covers for teenagers\n",
      "output:\n",
      "\n"
     ]
    }
   ],
   "source": [
    "print(prompt.format(description='Colorful cute smartphone covers for teenagers'))"
   ]
  },
  {
   "cell_type": "markdown",
   "id": "d6a250f9-7d58-4e79-8dda-9981b097c5d9",
   "metadata": {},
   "source": [
    "Vertex AI の LLM API を呼び出すクライアントオブジェクトを取得します。"
   ]
  },
  {
   "cell_type": "code",
   "execution_count": 3,
   "id": "5e1b5c61-84f8-4978-9cd3-1990b1066313",
   "metadata": {},
   "outputs": [],
   "source": [
    "from langchain.llms import vertexai\n",
    "llm = vertexai.VertexAI(model_name='text-bison', temperature=0.4)"
   ]
  },
  {
   "cell_type": "markdown",
   "id": "5104aaa8-7ac7-4220-97c9-25960abca604",
   "metadata": {},
   "source": [
    "パイプラインを定義して実行します。"
   ]
  },
  {
   "cell_type": "code",
   "execution_count": 4,
   "id": "da3e512d-5a02-4256-bacc-302efbeb878d",
   "metadata": {},
   "outputs": [],
   "source": [
    "from langchain import LLMChain\n",
    "llm_chain = LLMChain(prompt=prompt, llm=llm)"
   ]
  },
  {
   "cell_type": "code",
   "execution_count": 5,
   "id": "06a41a1b-cd7d-47b1-a1b5-b343aae50440",
   "metadata": {},
   "outputs": [
    {
     "name": "stdout",
     "output_type": "stream",
     "text": [
      "PhoneCase, PhoneCover, PhoneShell\n"
     ]
    }
   ],
   "source": [
    "description = 'Colorful cute smartphone covers for teenagers'\n",
    "print(llm_chain.run(description))"
   ]
  },
  {
   "cell_type": "markdown",
   "id": "d43a7710-8ddf-4043-954b-7b37593ddd32",
   "metadata": {},
   "source": [
    "LLM からの応答文をリスト形式に変換します。"
   ]
  },
  {
   "cell_type": "code",
   "execution_count": 6,
   "id": "b1024516-b198-4090-b499-79a72130c35c",
   "metadata": {},
   "outputs": [],
   "source": [
    "from langchain.output_parsers import CommaSeparatedListOutputParser\n",
    "\n",
    "output_parser = CommaSeparatedListOutputParser()"
   ]
  },
  {
   "cell_type": "code",
   "execution_count": 7,
   "id": "40cb8ad3-cf61-427c-8c7d-0c71383ee980",
   "metadata": {},
   "outputs": [
    {
     "data": {
      "text/plain": [
       "['1. Case-O-Color', '2. Phone-Cover-Fun', '3. Cover-Me-Up']"
      ]
     },
     "execution_count": 7,
     "metadata": {},
     "output_type": "execute_result"
    }
   ],
   "source": [
    "output_parser.parse(llm_chain.run(description))"
   ]
  },
  {
   "cell_type": "markdown",
   "id": "5c334f0e-b6b6-46f6-9cd8-dee2c39b9e9d",
   "metadata": {},
   "source": [
    "## pydantic を利用して、LLM からの応答をオブジェクトに変換する例"
   ]
  },
  {
   "cell_type": "markdown",
   "id": "138b49fb-dba0-474b-ad1c-afde921d5461",
   "metadata": {},
   "source": [
    "LLM からの応答を格納するオブジェクトを定義して、対応するパーサーを生成します。"
   ]
  },
  {
   "cell_type": "code",
   "execution_count": 8,
   "id": "3d73324c-0eea-4dfc-9ef6-330209567a7e",
   "metadata": {},
   "outputs": [],
   "source": [
    "from pydantic import BaseModel, Field\n",
    "\n",
    "class ProductNames(BaseModel):\n",
    "    setup: str = Field(description='product description')\n",
    "    product_name1: str = Field(description='product name 1')\n",
    "    product_name2: str = Field(description='product name 2')\n",
    "    product_name3: str = Field(description='product name 3')"
   ]
  },
  {
   "cell_type": "code",
   "execution_count": 9,
   "id": "48d454ef-b52e-47ed-a4b1-505d603caa52",
   "metadata": {},
   "outputs": [],
   "source": [
    "from langchain.output_parsers import PydanticOutputParser\n",
    "parser =  PydanticOutputParser(pydantic_object=ProductNames)"
   ]
  },
  {
   "cell_type": "code",
   "execution_count": 10,
   "id": "844e9610-b42a-4cfe-a634-cc4b049c3fe1",
   "metadata": {},
   "outputs": [
    {
     "name": "stdout",
     "output_type": "stream",
     "text": [
      "The output should be formatted as a JSON instance that conforms to the JSON schema below.\n",
      "\n",
      "As an example, for the schema {\"properties\": {\"foo\": {\"title\": \"Foo\", \"description\": \"a list of strings\", \"type\": \"array\", \"items\": {\"type\": \"string\"}}}, \"required\": [\"foo\"]}}\n",
      "the object {\"foo\": [\"bar\", \"baz\"]} is a well-formatted instance of the schema. The object {\"properties\": {\"foo\": [\"bar\", \"baz\"]}} is not well-formatted.\n",
      "\n",
      "Here is the output schema:\n",
      "```\n",
      "{\"properties\": {\"setup\": {\"title\": \"Setup\", \"description\": \"product description\", \"type\": \"string\"}, \"product_name1\": {\"title\": \"Product Name1\", \"description\": \"product name 1\", \"type\": \"string\"}, \"product_name2\": {\"title\": \"Product Name2\", \"description\": \"product name 2\", \"type\": \"string\"}, \"product_name3\": {\"title\": \"Product Name3\", \"description\": \"product name 3\", \"type\": \"string\"}}, \"required\": [\"setup\", \"product_name1\", \"product_name2\", \"product_name3\"]}\n",
      "```\n"
     ]
    }
   ],
   "source": [
    "print(parser.get_format_instructions())"
   ]
  },
  {
   "cell_type": "markdown",
   "id": "629e1e54-24db-4526-b91b-fe781bf84f50",
   "metadata": {},
   "source": [
    "パーサーが生成するインストラクションを含んだプロンプトを定義した後、パイプラインを再構成して実行します。"
   ]
  },
  {
   "cell_type": "code",
   "execution_count": 11,
   "id": "58cdecc5-7def-41ab-91dc-50453c0c0a32",
   "metadata": {},
   "outputs": [],
   "source": [
    "template=\"\"\"\\\n",
    "Answer the user query.\n",
    "{format_instructions}\n",
    "You are a naming consultant for new products.\n",
    "Give me examples of good names for a product described as {description}'\n",
    "\"\"\"\n",
    "\n",
    "prompt = PromptTemplate(\n",
    "    template=template,\n",
    "    input_variables=['description'],\n",
    "    partial_variables={'format_instructions': parser.get_format_instructions()}\n",
    ")\n",
    "\n",
    "llm_chain = LLMChain(prompt=prompt, llm=llm)"
   ]
  },
  {
   "cell_type": "code",
   "execution_count": 12,
   "id": "1fc68fcf-9a0b-471a-87fa-11ee2030bdf8",
   "metadata": {},
   "outputs": [
    {
     "data": {
      "text/plain": [
       "ProductNames(setup=\"Colorful cute smartphone covers for teenagers'\", product_name1='Cute Phone Cases', product_name2='Fun Phone Cases', product_name3='Trendy Phone Cases')"
      ]
     },
     "execution_count": 12,
     "metadata": {},
     "output_type": "execute_result"
    }
   ],
   "source": [
    "output = parser.parse(llm_chain.run(description))\n",
    "output"
   ]
  },
  {
   "cell_type": "code",
   "execution_count": 13,
   "id": "29b202c4-aa23-45f6-b52d-1fd99e7550a7",
   "metadata": {},
   "outputs": [
    {
     "data": {
      "text/plain": [
       "('Cute Phone Cases', 'Fun Phone Cases', 'Trendy Phone Cases')"
      ]
     },
     "execution_count": 13,
     "metadata": {},
     "output_type": "execute_result"
    }
   ],
   "source": [
    "output.product_name1, output.product_name2, output.product_name3"
   ]
  }
 ],
 "metadata": {
  "kernelspec": {
   "display_name": "python38 (Local)",
   "language": "python",
   "name": "local-python38"
  },
  "language_info": {
   "codemirror_mode": {
    "name": "ipython",
    "version": 3
   },
   "file_extension": ".py",
   "mimetype": "text/x-python",
   "name": "python",
   "nbconvert_exporter": "python",
   "pygments_lexer": "ipython3",
   "version": "3.8.17"
  }
 },
 "nbformat": 4,
 "nbformat_minor": 5
}
