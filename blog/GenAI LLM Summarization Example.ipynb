{
 "cells": [
  {
   "cell_type": "markdown",
   "id": "93deac2e-9ba0-438e-bc39-3b2d0edba170",
   "metadata": {},
   "source": [
    "# Google Cloud の生成 AI サービス（言語モデル）で英文を日本語に要約して理解するサンプル"
   ]
  },
  {
   "cell_type": "markdown",
   "id": "a472a627-4726-4d84-ba1e-759e6fd228a4",
   "metadata": {},
   "source": [
    "Vertex AI、および、Translation API のクライアントライブラリをインストールします。"
   ]
  },
  {
   "cell_type": "code",
   "execution_count": 1,
   "id": "0914cccd-6fed-49e5-858c-e0dac3bfceb9",
   "metadata": {},
   "outputs": [
    {
     "name": "stdout",
     "output_type": "stream",
     "text": [
      "Requirement already satisfied: google-cloud-aiplatform in ./.local/lib/python3.7/site-packages (1.29.0)\n",
      "Requirement already satisfied: google-api-core[grpc]!=2.0.*,!=2.1.*,!=2.2.*,!=2.3.*,!=2.4.*,!=2.5.*,!=2.6.*,!=2.7.*,<3.0.0dev,>=1.32.0 in /opt/conda/lib/python3.7/site-packages (from google-cloud-aiplatform) (1.34.0)\n",
      "Requirement already satisfied: proto-plus<2.0.0dev,>=1.22.0 in /opt/conda/lib/python3.7/site-packages (from google-cloud-aiplatform) (1.22.2)\n",
      "Requirement already satisfied: protobuf!=3.20.0,!=3.20.1,!=4.21.0,!=4.21.1,!=4.21.2,!=4.21.3,!=4.21.4,!=4.21.5,<5.0.0dev,>=3.19.5 in /opt/conda/lib/python3.7/site-packages (from google-cloud-aiplatform) (3.20.3)\n",
      "Requirement already satisfied: packaging>=14.3 in /opt/conda/lib/python3.7/site-packages (from google-cloud-aiplatform) (23.1)\n",
      "Requirement already satisfied: google-cloud-storage<3.0.0dev,>=1.32.0 in /opt/conda/lib/python3.7/site-packages (from google-cloud-aiplatform) (2.9.0)\n",
      "Requirement already satisfied: google-cloud-bigquery<4.0.0dev,>=1.15.0 in /opt/conda/lib/python3.7/site-packages (from google-cloud-aiplatform) (3.11.0)\n",
      "Requirement already satisfied: google-cloud-resource-manager<3.0.0dev,>=1.3.3 in /opt/conda/lib/python3.7/site-packages (from google-cloud-aiplatform) (1.10.1)\n",
      "Requirement already satisfied: shapely<2.0.0 in /opt/conda/lib/python3.7/site-packages (from google-cloud-aiplatform) (1.8.5.post1)\n",
      "Requirement already satisfied: googleapis-common-protos<2.0dev,>=1.56.2 in /opt/conda/lib/python3.7/site-packages (from google-api-core[grpc]!=2.0.*,!=2.1.*,!=2.2.*,!=2.3.*,!=2.4.*,!=2.5.*,!=2.6.*,!=2.7.*,<3.0.0dev,>=1.32.0->google-cloud-aiplatform) (1.59.0)\n",
      "Requirement already satisfied: google-auth<3.0dev,>=1.25.0 in ./.local/lib/python3.7/site-packages (from google-api-core[grpc]!=2.0.*,!=2.1.*,!=2.2.*,!=2.3.*,!=2.4.*,!=2.5.*,!=2.6.*,!=2.7.*,<3.0.0dev,>=1.32.0->google-cloud-aiplatform) (1.35.0)\n",
      "Requirement already satisfied: requests<3.0.0dev,>=2.18.0 in /opt/conda/lib/python3.7/site-packages (from google-api-core[grpc]!=2.0.*,!=2.1.*,!=2.2.*,!=2.3.*,!=2.4.*,!=2.5.*,!=2.6.*,!=2.7.*,<3.0.0dev,>=1.32.0->google-cloud-aiplatform) (2.31.0)\n",
      "Requirement already satisfied: grpcio<2.0dev,>=1.33.2 in /opt/conda/lib/python3.7/site-packages (from google-api-core[grpc]!=2.0.*,!=2.1.*,!=2.2.*,!=2.3.*,!=2.4.*,!=2.5.*,!=2.6.*,!=2.7.*,<3.0.0dev,>=1.32.0->google-cloud-aiplatform) (1.51.3)\n",
      "Requirement already satisfied: grpcio-status<2.0dev,>=1.33.2 in /opt/conda/lib/python3.7/site-packages (from google-api-core[grpc]!=2.0.*,!=2.1.*,!=2.2.*,!=2.3.*,!=2.4.*,!=2.5.*,!=2.6.*,!=2.7.*,<3.0.0dev,>=1.32.0->google-cloud-aiplatform) (1.48.2)\n",
      "Requirement already satisfied: google-cloud-core<3.0.0dev,>=1.6.0 in ./.local/lib/python3.7/site-packages (from google-cloud-bigquery<4.0.0dev,>=1.15.0->google-cloud-aiplatform) (1.7.3)\n",
      "Requirement already satisfied: google-resumable-media<3.0dev,>=0.6.0 in /opt/conda/lib/python3.7/site-packages (from google-cloud-bigquery<4.0.0dev,>=1.15.0->google-cloud-aiplatform) (2.5.0)\n",
      "Requirement already satisfied: python-dateutil<3.0dev,>=2.7.2 in /opt/conda/lib/python3.7/site-packages (from google-cloud-bigquery<4.0.0dev,>=1.15.0->google-cloud-aiplatform) (2.8.2)\n",
      "Requirement already satisfied: grpc-google-iam-v1<1.0.0dev,>=0.12.4 in /opt/conda/lib/python3.7/site-packages (from google-cloud-resource-manager<3.0.0dev,>=1.3.3->google-cloud-aiplatform) (0.12.6)\n",
      "Collecting google-cloud-core<3.0.0dev,>=1.6.0 (from google-cloud-bigquery<4.0.0dev,>=1.15.0->google-cloud-aiplatform)\n",
      "  Using cached google_cloud_core-2.3.3-py2.py3-none-any.whl (29 kB)\n",
      "Requirement already satisfied: cachetools<5.0,>=2.0.0 in ./.local/lib/python3.7/site-packages (from google-auth<3.0dev,>=1.25.0->google-api-core[grpc]!=2.0.*,!=2.1.*,!=2.2.*,!=2.3.*,!=2.4.*,!=2.5.*,!=2.6.*,!=2.7.*,<3.0.0dev,>=1.32.0->google-cloud-aiplatform) (4.2.4)\n",
      "Requirement already satisfied: pyasn1-modules>=0.2.1 in /opt/conda/lib/python3.7/site-packages (from google-auth<3.0dev,>=1.25.0->google-api-core[grpc]!=2.0.*,!=2.1.*,!=2.2.*,!=2.3.*,!=2.4.*,!=2.5.*,!=2.6.*,!=2.7.*,<3.0.0dev,>=1.32.0->google-cloud-aiplatform) (0.3.0)\n",
      "Requirement already satisfied: setuptools>=40.3.0 in /opt/conda/lib/python3.7/site-packages (from google-auth<3.0dev,>=1.25.0->google-api-core[grpc]!=2.0.*,!=2.1.*,!=2.2.*,!=2.3.*,!=2.4.*,!=2.5.*,!=2.6.*,!=2.7.*,<3.0.0dev,>=1.32.0->google-cloud-aiplatform) (67.7.2)\n",
      "Requirement already satisfied: six>=1.9.0 in /opt/conda/lib/python3.7/site-packages (from google-auth<3.0dev,>=1.25.0->google-api-core[grpc]!=2.0.*,!=2.1.*,!=2.2.*,!=2.3.*,!=2.4.*,!=2.5.*,!=2.6.*,!=2.7.*,<3.0.0dev,>=1.32.0->google-cloud-aiplatform) (1.16.0)\n",
      "Requirement already satisfied: rsa<5,>=3.1.4 in /opt/conda/lib/python3.7/site-packages (from google-auth<3.0dev,>=1.25.0->google-api-core[grpc]!=2.0.*,!=2.1.*,!=2.2.*,!=2.3.*,!=2.4.*,!=2.5.*,!=2.6.*,!=2.7.*,<3.0.0dev,>=1.32.0->google-cloud-aiplatform) (4.9)\n",
      "Requirement already satisfied: google-crc32c<2.0dev,>=1.0 in /opt/conda/lib/python3.7/site-packages (from google-resumable-media<3.0dev,>=0.6.0->google-cloud-bigquery<4.0.0dev,>=1.15.0->google-cloud-aiplatform) (1.5.0)\n",
      "Requirement already satisfied: charset-normalizer<4,>=2 in /opt/conda/lib/python3.7/site-packages (from requests<3.0.0dev,>=2.18.0->google-api-core[grpc]!=2.0.*,!=2.1.*,!=2.2.*,!=2.3.*,!=2.4.*,!=2.5.*,!=2.6.*,!=2.7.*,<3.0.0dev,>=1.32.0->google-cloud-aiplatform) (3.1.0)\n",
      "Requirement already satisfied: idna<4,>=2.5 in /opt/conda/lib/python3.7/site-packages (from requests<3.0.0dev,>=2.18.0->google-api-core[grpc]!=2.0.*,!=2.1.*,!=2.2.*,!=2.3.*,!=2.4.*,!=2.5.*,!=2.6.*,!=2.7.*,<3.0.0dev,>=1.32.0->google-cloud-aiplatform) (3.4)\n",
      "Requirement already satisfied: urllib3<3,>=1.21.1 in /opt/conda/lib/python3.7/site-packages (from requests<3.0.0dev,>=2.18.0->google-api-core[grpc]!=2.0.*,!=2.1.*,!=2.2.*,!=2.3.*,!=2.4.*,!=2.5.*,!=2.6.*,!=2.7.*,<3.0.0dev,>=1.32.0->google-cloud-aiplatform) (1.26.16)\n",
      "Requirement already satisfied: certifi>=2017.4.17 in /opt/conda/lib/python3.7/site-packages (from requests<3.0.0dev,>=2.18.0->google-api-core[grpc]!=2.0.*,!=2.1.*,!=2.2.*,!=2.3.*,!=2.4.*,!=2.5.*,!=2.6.*,!=2.7.*,<3.0.0dev,>=1.32.0->google-cloud-aiplatform) (2023.5.7)\n",
      "Requirement already satisfied: pyasn1<0.6.0,>=0.4.6 in /opt/conda/lib/python3.7/site-packages (from pyasn1-modules>=0.2.1->google-auth<3.0dev,>=1.25.0->google-api-core[grpc]!=2.0.*,!=2.1.*,!=2.2.*,!=2.3.*,!=2.4.*,!=2.5.*,!=2.6.*,!=2.7.*,<3.0.0dev,>=1.32.0->google-cloud-aiplatform) (0.5.0)\n",
      "Installing collected packages: google-cloud-core\n",
      "  Attempting uninstall: google-cloud-core\n",
      "    Found existing installation: google-cloud-core 1.7.3\n",
      "    Uninstalling google-cloud-core-1.7.3:\n",
      "      Successfully uninstalled google-cloud-core-1.7.3\n",
      "\u001b[31mERROR: pip's dependency resolver does not currently take into account all the packages that are installed. This behaviour is the source of the following dependency conflicts.\n",
      "google-cloud-translate 2.0.1 requires google-cloud-core<2.0dev,>=1.1.0, but you have google-cloud-core 2.3.3 which is incompatible.\u001b[0m\u001b[31m\n",
      "\u001b[0mSuccessfully installed google-cloud-core-2.3.3\n",
      "Requirement already satisfied: google-cloud-translate==2.0.1 in ./.local/lib/python3.7/site-packages (2.0.1)\n",
      "Requirement already satisfied: google-api-core[grpc]<2.0.0dev,>=1.15.0 in /opt/conda/lib/python3.7/site-packages (from google-cloud-translate==2.0.1) (1.34.0)\n",
      "Collecting google-cloud-core<2.0dev,>=1.1.0 (from google-cloud-translate==2.0.1)\n",
      "  Using cached google_cloud_core-1.7.3-py2.py3-none-any.whl (28 kB)\n",
      "Requirement already satisfied: googleapis-common-protos<2.0dev,>=1.56.2 in /opt/conda/lib/python3.7/site-packages (from google-api-core[grpc]<2.0.0dev,>=1.15.0->google-cloud-translate==2.0.1) (1.59.0)\n",
      "Requirement already satisfied: protobuf!=3.20.0,!=3.20.1,!=4.21.0,!=4.21.1,!=4.21.2,!=4.21.3,!=4.21.4,!=4.21.5,<4.0.0dev,>=3.19.5 in /opt/conda/lib/python3.7/site-packages (from google-api-core[grpc]<2.0.0dev,>=1.15.0->google-cloud-translate==2.0.1) (3.20.3)\n",
      "Requirement already satisfied: google-auth<3.0dev,>=1.25.0 in ./.local/lib/python3.7/site-packages (from google-api-core[grpc]<2.0.0dev,>=1.15.0->google-cloud-translate==2.0.1) (1.35.0)\n",
      "Requirement already satisfied: requests<3.0.0dev,>=2.18.0 in /opt/conda/lib/python3.7/site-packages (from google-api-core[grpc]<2.0.0dev,>=1.15.0->google-cloud-translate==2.0.1) (2.31.0)\n",
      "Requirement already satisfied: grpcio<2.0dev,>=1.33.2 in /opt/conda/lib/python3.7/site-packages (from google-api-core[grpc]<2.0.0dev,>=1.15.0->google-cloud-translate==2.0.1) (1.51.3)\n",
      "Requirement already satisfied: grpcio-status<2.0dev,>=1.33.2 in /opt/conda/lib/python3.7/site-packages (from google-api-core[grpc]<2.0.0dev,>=1.15.0->google-cloud-translate==2.0.1) (1.48.2)\n",
      "Requirement already satisfied: six>=1.12.0 in /opt/conda/lib/python3.7/site-packages (from google-cloud-core<2.0dev,>=1.1.0->google-cloud-translate==2.0.1) (1.16.0)\n",
      "Requirement already satisfied: cachetools<5.0,>=2.0.0 in ./.local/lib/python3.7/site-packages (from google-auth<3.0dev,>=1.25.0->google-api-core[grpc]<2.0.0dev,>=1.15.0->google-cloud-translate==2.0.1) (4.2.4)\n",
      "Requirement already satisfied: pyasn1-modules>=0.2.1 in /opt/conda/lib/python3.7/site-packages (from google-auth<3.0dev,>=1.25.0->google-api-core[grpc]<2.0.0dev,>=1.15.0->google-cloud-translate==2.0.1) (0.3.0)\n",
      "Requirement already satisfied: setuptools>=40.3.0 in /opt/conda/lib/python3.7/site-packages (from google-auth<3.0dev,>=1.25.0->google-api-core[grpc]<2.0.0dev,>=1.15.0->google-cloud-translate==2.0.1) (67.7.2)\n",
      "Requirement already satisfied: rsa<5,>=3.1.4 in /opt/conda/lib/python3.7/site-packages (from google-auth<3.0dev,>=1.25.0->google-api-core[grpc]<2.0.0dev,>=1.15.0->google-cloud-translate==2.0.1) (4.9)\n",
      "Requirement already satisfied: charset-normalizer<4,>=2 in /opt/conda/lib/python3.7/site-packages (from requests<3.0.0dev,>=2.18.0->google-api-core[grpc]<2.0.0dev,>=1.15.0->google-cloud-translate==2.0.1) (3.1.0)\n",
      "Requirement already satisfied: idna<4,>=2.5 in /opt/conda/lib/python3.7/site-packages (from requests<3.0.0dev,>=2.18.0->google-api-core[grpc]<2.0.0dev,>=1.15.0->google-cloud-translate==2.0.1) (3.4)\n",
      "Requirement already satisfied: urllib3<3,>=1.21.1 in /opt/conda/lib/python3.7/site-packages (from requests<3.0.0dev,>=2.18.0->google-api-core[grpc]<2.0.0dev,>=1.15.0->google-cloud-translate==2.0.1) (1.26.16)\n",
      "Requirement already satisfied: certifi>=2017.4.17 in /opt/conda/lib/python3.7/site-packages (from requests<3.0.0dev,>=2.18.0->google-api-core[grpc]<2.0.0dev,>=1.15.0->google-cloud-translate==2.0.1) (2023.5.7)\n",
      "Requirement already satisfied: pyasn1<0.6.0,>=0.4.6 in /opt/conda/lib/python3.7/site-packages (from pyasn1-modules>=0.2.1->google-auth<3.0dev,>=1.25.0->google-api-core[grpc]<2.0.0dev,>=1.15.0->google-cloud-translate==2.0.1) (0.5.0)\n",
      "Installing collected packages: google-cloud-core\n",
      "  Attempting uninstall: google-cloud-core\n",
      "    Found existing installation: google-cloud-core 2.3.3\n",
      "    Uninstalling google-cloud-core-2.3.3:\n",
      "      Successfully uninstalled google-cloud-core-2.3.3\n",
      "\u001b[31mERROR: pip's dependency resolver does not currently take into account all the packages that are installed. This behaviour is the source of the following dependency conflicts.\n",
      "google-cloud-storage 2.9.0 requires google-cloud-core<3.0dev,>=2.3.0, but you have google-cloud-core 1.7.3 which is incompatible.\u001b[0m\u001b[31m\n",
      "\u001b[0mSuccessfully installed google-cloud-core-1.7.3\n"
     ]
    }
   ],
   "source": [
    "!pip install google-cloud-aiplatform --upgrade --user\n",
    "!pip install google-cloud-translate==2.0.1 --user"
   ]
  },
  {
   "cell_type": "markdown",
   "id": "44025e4d-4484-46f8-8e48-2e9b5ddfaba2",
   "metadata": {},
   "source": [
    "ここで一度、ランタイムのカーネルを再起動します。「Kernel」→「Restart Kernel」を選択してください。"
   ]
  },
  {
   "cell_type": "markdown",
   "id": "7d253e1c-8337-4dac-9f85-653268088379",
   "metadata": {},
   "source": [
    "Vertex AI のクライアントモジュールをインポートして、言語モデルのクライアントオブジェクトを生成します。"
   ]
  },
  {
   "cell_type": "code",
   "execution_count": 2,
   "id": "5305fb4d-9c00-4783-94ee-719119634beb",
   "metadata": {},
   "outputs": [],
   "source": [
    "from vertexai.preview.language_models import TextGenerationModel\n",
    "generation_model = TextGenerationModel.from_pretrained('text-bison@001')"
   ]
  },
  {
   "cell_type": "markdown",
   "id": "830ec3c1-5805-4152-ad16-02076170936e",
   "metadata": {},
   "source": [
    "量子コンピューターを説明した英文を短く要約するように依頼するプロンプトを用意します。"
   ]
  },
  {
   "cell_type": "code",
   "execution_count": 3,
   "id": "d2ceed1a-52eb-4c69-97ca-729edf200d8f",
   "metadata": {},
   "outputs": [],
   "source": [
    "prompt = \"\"\"\n",
    "Provide a very short summary, no more than three sentences, for the following article:\n",
    "\n",
    "Our quantum computers work by manipulating qubits in an orchestrated fashion that we call quantum algorithms.\n",
    "The challenge is that qubits are so sensitive that even stray light can cause calculation errors — and the problem worsens as quantum computers grow.\n",
    "This has significant consequences, since the best quantum algorithms that we know for running useful applications require the error rates of our qubits to be far lower than we have today.\n",
    "To bridge this gap, we will need quantum error correction.\n",
    "Quantum error correction protects information by encoding it across multiple physical qubits to form a “logical qubit,” and is believed to be the only way to produce a large-scale quantum computer with error rates low enough for useful calculations.\n",
    "Instead of computing on the individual qubits themselves, we will then compute on logical qubits. By encoding larger numbers of physical qubits on our quantum processor into one logical qubit, we hope to reduce the error rates to enable useful quantum algorithms.\n",
    "\n",
    "Summary:\n",
    "\"\"\""
   ]
  },
  {
   "cell_type": "markdown",
   "id": "f2e72313-1072-435e-ae09-1b85803ee352",
   "metadata": {},
   "source": [
    "言語モデルの API を呼び出して応答を取得します。"
   ]
  },
  {
   "cell_type": "code",
   "execution_count": 4,
   "id": "722bf261-31d8-4e45-9bfc-3e8614e05138",
   "metadata": {},
   "outputs": [],
   "source": [
    "response = generation_model.predict(\n",
    "        prompt, temperature=0.2, max_output_tokens=1024, top_k=40, top_p=0.8\n",
    "    ).text"
   ]
  },
  {
   "cell_type": "markdown",
   "id": "fa8fe15d-25c2-4121-a83f-aad5c6e48142",
   "metadata": {},
   "source": [
    "得られた応答を表示します。"
   ]
  },
  {
   "cell_type": "code",
   "execution_count": 5,
   "id": "535e138e-f68b-4a54-bc8c-a5bac0c9e697",
   "metadata": {},
   "outputs": [
    {
     "name": "stdout",
     "output_type": "stream",
     "text": [
      "Quantum computers are very sensitive and errors can occur easily.\n",
      "Quantum error correction protects information by encoding it across multiple physical qubits to form a “logical qubit”.\n",
      "By encoding larger numbers of physical qubits on our quantum processor into one logical qubit, we hope to reduce the error rates to enable useful quantum algorithms.\n"
     ]
    }
   ],
   "source": [
    "print(response)"
   ]
  },
  {
   "cell_type": "markdown",
   "id": "ee362964-bf06-42b7-bf28-71a3392d7b85",
   "metadata": {},
   "source": [
    "英語の応答を日本語に翻訳するために、Translate API のモジュールをインポートして、クライアントオブジェクトを取得します。"
   ]
  },
  {
   "cell_type": "code",
   "execution_count": 6,
   "id": "1b013f2c-6dca-4259-8f60-97f498eb58a3",
   "metadata": {},
   "outputs": [],
   "source": [
    "from google.cloud import translate_v2 as translate\n",
    "translate_client = translate.Client()"
   ]
  },
  {
   "cell_type": "markdown",
   "id": "764cfa7b-0f5d-4677-aba1-682b2cf8eb5f",
   "metadata": {},
   "source": [
    "英語に翻訳可能な言語のリストを表示します。日本語は 'ja' で指定できることがわかります。"
   ]
  },
  {
   "cell_type": "code",
   "execution_count": 7,
   "id": "0473442a-e961-45f3-8208-3e942bb7a99b",
   "metadata": {},
   "outputs": [
    {
     "data": {
      "text/plain": [
       "[{'language': 'af', 'name': 'Afrikaans'},\n",
       " {'language': 'sq', 'name': 'Albanian'},\n",
       " {'language': 'am', 'name': 'Amharic'},\n",
       " {'language': 'ar', 'name': 'Arabic'},\n",
       " {'language': 'hy', 'name': 'Armenian'},\n",
       " {'language': 'as', 'name': 'Assamese'},\n",
       " {'language': 'ay', 'name': 'Aymara'},\n",
       " {'language': 'az', 'name': 'Azerbaijani'},\n",
       " {'language': 'bm', 'name': 'Bambara'},\n",
       " {'language': 'eu', 'name': 'Basque'},\n",
       " {'language': 'be', 'name': 'Belarusian'},\n",
       " {'language': 'bn', 'name': 'Bengali'},\n",
       " {'language': 'bho', 'name': 'Bhojpuri'},\n",
       " {'language': 'bs', 'name': 'Bosnian'},\n",
       " {'language': 'bg', 'name': 'Bulgarian'},\n",
       " {'language': 'ca', 'name': 'Catalan'},\n",
       " {'language': 'ceb', 'name': 'Cebuano'},\n",
       " {'language': 'ny', 'name': 'Chichewa'},\n",
       " {'language': 'zh', 'name': 'Chinese (Simplified)'},\n",
       " {'language': 'zh-TW', 'name': 'Chinese (Traditional)'},\n",
       " {'language': 'co', 'name': 'Corsican'},\n",
       " {'language': 'hr', 'name': 'Croatian'},\n",
       " {'language': 'cs', 'name': 'Czech'},\n",
       " {'language': 'da', 'name': 'Danish'},\n",
       " {'language': 'dv', 'name': 'Divehi'},\n",
       " {'language': 'doi', 'name': 'Dogri'},\n",
       " {'language': 'nl', 'name': 'Dutch'},\n",
       " {'language': 'en', 'name': 'English'},\n",
       " {'language': 'eo', 'name': 'Esperanto'},\n",
       " {'language': 'et', 'name': 'Estonian'},\n",
       " {'language': 'ee', 'name': 'Ewe'},\n",
       " {'language': 'tl', 'name': 'Filipino'},\n",
       " {'language': 'fi', 'name': 'Finnish'},\n",
       " {'language': 'fr', 'name': 'French'},\n",
       " {'language': 'fy', 'name': 'Frisian'},\n",
       " {'language': 'gl', 'name': 'Galician'},\n",
       " {'language': 'lg', 'name': 'Ganda'},\n",
       " {'language': 'ka', 'name': 'Georgian'},\n",
       " {'language': 'de', 'name': 'German'},\n",
       " {'language': 'el', 'name': 'Greek'},\n",
       " {'language': 'gn', 'name': 'Guarani'},\n",
       " {'language': 'gu', 'name': 'Gujarati'},\n",
       " {'language': 'ht', 'name': 'Haitian Creole'},\n",
       " {'language': 'ha', 'name': 'Hausa'},\n",
       " {'language': 'haw', 'name': 'Hawaiian'},\n",
       " {'language': 'iw', 'name': 'Hebrew'},\n",
       " {'language': 'hi', 'name': 'Hindi'},\n",
       " {'language': 'hmn', 'name': 'Hmong'},\n",
       " {'language': 'hu', 'name': 'Hungarian'},\n",
       " {'language': 'is', 'name': 'Icelandic'},\n",
       " {'language': 'ig', 'name': 'Igbo'},\n",
       " {'language': 'ilo', 'name': 'Iloko'},\n",
       " {'language': 'id', 'name': 'Indonesian'},\n",
       " {'language': 'ga', 'name': 'Irish Gaelic'},\n",
       " {'language': 'it', 'name': 'Italian'},\n",
       " {'language': 'ja', 'name': 'Japanese'},\n",
       " {'language': 'jw', 'name': 'Javanese'},\n",
       " {'language': 'kn', 'name': 'Kannada'},\n",
       " {'language': 'kk', 'name': 'Kazakh'},\n",
       " {'language': 'km', 'name': 'Khmer'},\n",
       " {'language': 'rw', 'name': 'Kinyarwanda'},\n",
       " {'language': 'gom', 'name': 'Konkani'},\n",
       " {'language': 'ko', 'name': 'Korean'},\n",
       " {'language': 'kri', 'name': 'Krio'},\n",
       " {'language': 'ku', 'name': 'Kurdish (Kurmanji)'},\n",
       " {'language': 'ckb', 'name': 'Kurdish (Sorani)'},\n",
       " {'language': 'ky', 'name': 'Kyrgyz'},\n",
       " {'language': 'lo', 'name': 'Lao'},\n",
       " {'language': 'la', 'name': 'Latin'},\n",
       " {'language': 'lv', 'name': 'Latvian'},\n",
       " {'language': 'ln', 'name': 'Lingala'},\n",
       " {'language': 'lt', 'name': 'Lithuanian'},\n",
       " {'language': 'lb', 'name': 'Luxembourgish'},\n",
       " {'language': 'mk', 'name': 'Macedonian'},\n",
       " {'language': 'mai', 'name': 'Maithili'},\n",
       " {'language': 'mg', 'name': 'Malagasy'},\n",
       " {'language': 'ms', 'name': 'Malay'},\n",
       " {'language': 'ml', 'name': 'Malayalam'},\n",
       " {'language': 'mt', 'name': 'Maltese'},\n",
       " {'language': 'mi', 'name': 'Maori'},\n",
       " {'language': 'mr', 'name': 'Marathi'},\n",
       " {'language': 'mni-Mtei', 'name': 'Meiteilon (Manipuri)'},\n",
       " {'language': 'lus', 'name': 'Mizo'},\n",
       " {'language': 'mn', 'name': 'Mongolian'},\n",
       " {'language': 'my', 'name': 'Myanmar (Burmese)'},\n",
       " {'language': 'ne', 'name': 'Nepali'},\n",
       " {'language': 'nso', 'name': 'Northern Sotho'},\n",
       " {'language': 'no', 'name': 'Norwegian'},\n",
       " {'language': 'or', 'name': 'Odia (Oriya)'},\n",
       " {'language': 'om', 'name': 'Oromo'},\n",
       " {'language': 'ps', 'name': 'Pashto'},\n",
       " {'language': 'fa', 'name': 'Persian'},\n",
       " {'language': 'pl', 'name': 'Polish'},\n",
       " {'language': 'pt', 'name': 'Portuguese'},\n",
       " {'language': 'pa', 'name': 'Punjabi'},\n",
       " {'language': 'qu', 'name': 'Quechua'},\n",
       " {'language': 'ro', 'name': 'Romanian'},\n",
       " {'language': 'ru', 'name': 'Russian'},\n",
       " {'language': 'sm', 'name': 'Samoan'},\n",
       " {'language': 'sa', 'name': 'Sanskrit'},\n",
       " {'language': 'gd', 'name': 'Scots Gaelic'},\n",
       " {'language': 'sr', 'name': 'Serbian'},\n",
       " {'language': 'st', 'name': 'Sesotho'},\n",
       " {'language': 'sn', 'name': 'Shona'},\n",
       " {'language': 'sd', 'name': 'Sindhi'},\n",
       " {'language': 'si', 'name': 'Sinhala'},\n",
       " {'language': 'sk', 'name': 'Slovak'},\n",
       " {'language': 'sl', 'name': 'Slovenian'},\n",
       " {'language': 'so', 'name': 'Somali'},\n",
       " {'language': 'es', 'name': 'Spanish'},\n",
       " {'language': 'su', 'name': 'Sundanese'},\n",
       " {'language': 'sw', 'name': 'Swahili'},\n",
       " {'language': 'sv', 'name': 'Swedish'},\n",
       " {'language': 'tg', 'name': 'Tajik'},\n",
       " {'language': 'ta', 'name': 'Tamil'},\n",
       " {'language': 'tt', 'name': 'Tatar'},\n",
       " {'language': 'te', 'name': 'Telugu'},\n",
       " {'language': 'th', 'name': 'Thai'},\n",
       " {'language': 'ti', 'name': 'Tigrinya'},\n",
       " {'language': 'ts', 'name': 'Tsonga'},\n",
       " {'language': 'tr', 'name': 'Turkish'},\n",
       " {'language': 'tk', 'name': 'Turkmen'},\n",
       " {'language': 'ak', 'name': 'Twi'},\n",
       " {'language': 'uk', 'name': 'Ukrainian'},\n",
       " {'language': 'ur', 'name': 'Urdu'},\n",
       " {'language': 'ug', 'name': 'Uyghur'},\n",
       " {'language': 'uz', 'name': 'Uzbek'},\n",
       " {'language': 'vi', 'name': 'Vietnamese'},\n",
       " {'language': 'cy', 'name': 'Welsh'},\n",
       " {'language': 'xh', 'name': 'Xhosa'},\n",
       " {'language': 'yi', 'name': 'Yiddish'},\n",
       " {'language': 'yo', 'name': 'Yoruba'},\n",
       " {'language': 'zu', 'name': 'Zulu'},\n",
       " {'language': 'he', 'name': 'Hebrew'},\n",
       " {'language': 'jv', 'name': 'Javanese'},\n",
       " {'language': 'zh-CN', 'name': 'Chinese (Simplified)'}]"
      ]
     },
     "execution_count": 7,
     "metadata": {},
     "output_type": "execute_result"
    }
   ],
   "source": [
    "translate_client.get_languages(target_language='en')"
   ]
  },
  {
   "cell_type": "markdown",
   "id": "fe57e560-8cae-4c4b-84b5-ab35579a1b82",
   "metadata": {},
   "source": [
    "日本語に翻訳する関数を定義します。"
   ]
  },
  {
   "cell_type": "code",
   "execution_count": 8,
   "id": "bcce5b9e-ddaf-4c44-ae44-11ed133178a4",
   "metadata": {},
   "outputs": [],
   "source": [
    "def translate_text(text):\n",
    "    translated = []\n",
    "    for line in text.split('\\n'):\n",
    "        result = translate_client.translate(line, target_language='ja')\n",
    "        translated.append(result['translatedText'])\n",
    "    return '\\n'.join(translated)"
   ]
  },
  {
   "cell_type": "markdown",
   "id": "600ea50c-47c3-4e57-867c-86148066c771",
   "metadata": {},
   "source": [
    "定義した関数を用いて日本語に翻訳します。"
   ]
  },
  {
   "cell_type": "code",
   "execution_count": 9,
   "id": "bfd2e40f-e34f-4b11-9197-a7b33a8dc11f",
   "metadata": {},
   "outputs": [
    {
     "name": "stdout",
     "output_type": "stream",
     "text": [
      "量子コンピューターは非常に敏感であり、エラーが発生しやすいです。\n",
      "量子エラー訂正は、複数の物理量子ビットにわたって情報をエンコードして「論理量子ビット」を形成することで情報を保護します。\n",
      "量子プロセッサ上で多数の物理量子ビットを 1 つの論理量子ビットにエンコードすることで、エラー率を低減し、有用な量子アルゴリズムを実現できるようにしたいと考えています。\n"
     ]
    }
   ],
   "source": [
    "print(translate_text(response))"
   ]
  },
  {
   "cell_type": "markdown",
   "id": "711c3865-d0bc-464c-a2e0-e3c233c2460d",
   "metadata": {},
   "source": [
    "要約と翻訳をまとめて実施する関数を定義します。"
   ]
  },
  {
   "cell_type": "code",
   "execution_count": 10,
   "id": "580bc16b-ecd8-4948-af58-6f1b4c48b217",
   "metadata": {},
   "outputs": [],
   "source": [
    "def summarize_and_translate_text(text):\n",
    "    prompt = \"\"\"\n",
    "Provide a very short summary, no more than three sentences, for the following article:\n",
    "\n",
    "{}\n",
    "\n",
    "Summary:\n",
    "\"\"\".format(text)\n",
    "    response = generation_model.predict(\n",
    "        prompt, temperature=0.2, max_output_tokens=1024, top_k=40, top_p=0.8\n",
    "    ).text\n",
    "    return translate_text(response)"
   ]
  },
  {
   "cell_type": "markdown",
   "id": "31fd8662-f3a1-45b4-a636-d532ad702c52",
   "metadata": {},
   "source": [
    "この関数は、要約対象の文章だけを入力すると、要約結果が得られます。"
   ]
  },
  {
   "cell_type": "code",
   "execution_count": 11,
   "id": "437fa4ec-5755-4a4c-b033-d964e9242882",
   "metadata": {},
   "outputs": [
    {
     "name": "stdout",
     "output_type": "stream",
     "text": [
      "量子コンピューターは非常に敏感で、エラーが発生しやすくなっています。\n",
      "量子エラー訂正は、複数の物理量子ビットにわたって情報をエンコードして「論理量子ビット」を形成することで情報を保護します。\n",
      "量子プロセッサ上で多数の物理量子ビットを 1 つの論理量子ビットにエンコードすることで、エラー率を低減し、有用な量子アルゴリズムを実現できるようにしたいと考えています。\n"
     ]
    }
   ],
   "source": [
    "text = \"\"\"\n",
    "Our quantum computers work by manipulating qubits in an orchestrated fashion that we call quantum algorithms.\n",
    "The challenge is that qubits are so sensitive that even stray light can cause calculation errors — and the problem worsens as quantum computers grow.\n",
    "This has significant consequences, since the best quantum algorithms that we know for running useful applications require the error rates of our qubits to be far lower than we have today.\n",
    "To bridge this gap, we will need quantum error correction.\n",
    "Quantum error correction protects information by encoding it across multiple physical qubits to form a “logical qubit,” and is believed to be the only way to produce a large-scale quantum computer with error rates low enough for useful calculations.\n",
    "Instead of computing on the individual qubits themselves, we will then compute on logical qubits. By encoding larger numbers of physical qubits on our quantum processor into one logical qubit, we hope to reduce the error rates to enable useful quantum algorithms.\n",
    "\"\"\"\n",
    "\n",
    "print(summarize_and_translate_text(text))"
   ]
  }
 ],
 "metadata": {
  "kernelspec": {
   "display_name": "Python (Local)",
   "language": "python",
   "name": "local-base"
  },
  "language_info": {
   "codemirror_mode": {
    "name": "ipython",
    "version": 3
   },
   "file_extension": ".py",
   "mimetype": "text/x-python",
   "name": "python",
   "nbconvert_exporter": "python",
   "pygments_lexer": "ipython3",
   "version": "3.7.12"
  }
 },
 "nbformat": 4,
 "nbformat_minor": 5
}
