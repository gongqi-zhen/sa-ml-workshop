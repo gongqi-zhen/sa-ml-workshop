{
 "cells": [
  {
   "cell_type": "markdown",
   "metadata": {},
   "source": [
    "# LangchainとMatching Engineにたわむれる"
   ]
  },
  {
   "cell_type": "markdown",
   "metadata": {},
   "source": [
    "このノートブックはVertex AI Matching EngineをLangchainのVectorStoreとして扱うサンプルコードを含めています。\n",
    "1. データセットを `textembedding-gecko`モデルを利用してEmbeddingする\n",
    "2. ベクトルデータをMatching Enigneに保存\n",
    "3. `text-bison`をLangchainのAgentとして、Matching EngineをRetrieverとして利用する"
   ]
  },
  {
   "cell_type": "markdown",
   "metadata": {},
   "source": [
    "## 事前準備、依存関係の解決"
   ]
  },
  {
   "cell_type": "markdown",
   "metadata": {},
   "source": [
    "事前にVertex AI Matching EngineのIndexとEndpointを作成し、Indexをプロイしておく必要があります。"
   ]
  },
  {
   "cell_type": "code",
   "execution_count": null,
   "metadata": {},
   "outputs": [],
   "source": [
    "PROJECT_ID = \"\"\n",
    "REGION = \"us-central1\"\n",
    "INDEX_ID = \"\"\n",
    "INDEX_BUTCKET_URI = \"gs://...\"\n",
    "ENDPOINT_ID = \"\""
   ]
  },
  {
   "cell_type": "code",
   "execution_count": null,
   "metadata": {},
   "outputs": [],
   "source": [
    "%pip install langchain google-cloud-aiplatform"
   ]
  },
  {
   "cell_type": "code",
   "execution_count": null,
   "metadata": {},
   "outputs": [],
   "source": [
    "!curl -o dataset.csv -L https://github.com/GoogleCloudPlatform/python-docs-samples/raw/main/cloud-sql/postgres/pgvector/data/retail_toy_dataset.csv"
   ]
  },
  {
   "cell_type": "markdown",
   "metadata": {},
   "source": [
    "## Matching Enigneの初期化"
   ]
  },
  {
   "cell_type": "markdown",
   "metadata": {},
   "source": [
    "データセットを雑にEmbeddingsしておきます(後でMatching Engineに投入します)"
   ]
  },
  {
   "cell_type": "code",
   "execution_count": null,
   "metadata": {},
   "outputs": [],
   "source": [
    "from langchain.document_loaders  import CSVLoader\n",
    "from langchain.text_splitter import CharacterTextSplitter\n",
    "\n",
    "CHUNK_SIZE=1024\n",
    "text_splitter = CharacterTextSplitter(chunk_size=CHUNK_SIZE)\n",
    "\n",
    "loader = CSVLoader(\n",
    "    file_path=\"./dataset.csv\",\n",
    "    csv_args=dict(\n",
    "        delimiter=\",\",\n",
    "    )\n",
    ")\n",
    "raw_documents = loader.load()\n",
    "documents = text_splitter.split_documents(raw_documents)"
   ]
  },
  {
   "cell_type": "markdown",
   "metadata": {},
   "source": [
    "EmbeddingsしたデータセットをMatching Engineへ保存します"
   ]
  },
  {
   "cell_type": "code",
   "execution_count": null,
   "metadata": {},
   "outputs": [],
   "source": [
    "from langchain.vectorstores import MatchingEngine\n",
    "from langchain.embeddings import VertexAIEmbeddings\n",
    "\n",
    "# Embeddingsはデフォルトで textembeddings-gecko がセットされています\n",
    "embeddings = VertexAIEmbeddings(project=PROJECT_ID)\n",
    "\n",
    "vector_store = MatchingEngine.from_components(\n",
    "    embedding=embeddings,\n",
    "    project_id=PROJECT_ID,\n",
    "    region=REGION,\n",
    "    gcs_bucket_name=INDEX_BUTCKET_URI,\n",
    "    index_id=INDEX_ID,\n",
    "    endpoint_id=ENDPOINT_ID\n",
    ")"
   ]
  },
  {
   "cell_type": "code",
   "execution_count": null,
   "metadata": {},
   "outputs": [],
   "source": [
    "# データセットをMatchingEngineへ保存します(少し時間がかかります)\n",
    "vector_store.add_documents(documents)"
   ]
  },
  {
   "cell_type": "code",
   "execution_count": null,
   "metadata": {},
   "outputs": [],
   "source": [
    "# ベクトル近傍値を取得します\n",
    "search_results = vector_store.similarity_search(query=\"soccer, game\", include_metadata=True)"
   ]
  },
  {
   "cell_type": "markdown",
   "metadata": {},
   "source": [
    "## AgentとRetrieverのセットアップ"
   ]
  },
  {
   "cell_type": "markdown",
   "metadata": {},
   "source": [
    "Retriever(ドキュメント探索のインターフェース)のデータソースとしてMatching Engineを設定します"
   ]
  },
  {
   "cell_type": "code",
   "execution_count": null,
   "metadata": {},
   "outputs": [],
   "source": [
    "from langchain.llms import VertexAI\n",
    "from langchain.chains import RetrievalQA\n",
    "from langchain.prompts import PromptTemplate\n",
    "\n",
    "toy_search_llm = VertexAI(temperature=0.1, max_output_tokens=1024)\n",
    "retriever=vector_store.as_retriever(search_kwargs={\"include_metadata\": True})\n",
    "prompt_template = \"\"\"Only using the descriptions, please exact the product_name and the product_url, and the summary.\n",
    "\n",
    "Description: {context}\n",
    "\n",
    "Begin!!\n",
    "\n",
    "Awesome Summary:\n",
    "\"\"\"\n",
    "\n",
    "prompt = PromptTemplate(input_variables=['context'], template=prompt_template)\n",
    "toy_search = RetrievalQA.from_llm(llm=toy_search_llm, prompt=prompt, retriever=retriever)"
   ]
  },
  {
   "cell_type": "code",
   "execution_count": null,
   "metadata": {},
   "outputs": [],
   "source": [
    "toy_search.run(\"soccer\")"
   ]
  },
  {
   "cell_type": "markdown",
   "metadata": {},
   "source": [
    "Agent(入力をもとにLLMからChainを実行するためのインターフェース)をセットアップします"
   ]
  },
  {
   "cell_type": "code",
   "execution_count": null,
   "metadata": {},
   "outputs": [],
   "source": [
    "from langchain.agents import initialize_agent, Tool\n",
    "from langchain.agents import AgentType\n",
    "\n",
    "agent_llm = VertexAI(temperature=0.1, max_output_tokens=1024)\n",
    "\n",
    "tools = [\n",
    "    Tool(\n",
    "        name=\"Retail Toy QA System\",\n",
    "        func=toy_search.run,\n",
    "        description=\"useful for when you need to answer questions about the toys. Input should be comma-separated words, do not input a fully formed question.\",\n",
    "    ),\n",
    "]\n",
    "agent = initialize_agent(\n",
    "    tools, llm=agent_llm, agent=AgentType.ZERO_SHOT_REACT_DESCRIPTION, verbose=True\n",
    ")"
   ]
  },
  {
   "cell_type": "code",
   "execution_count": null,
   "metadata": {},
   "outputs": [],
   "source": [
    "result = agent.run(\"\"\"You are a recommendation system that introduces the product that best matches the user's request. \n",
    "You must output both of the product's URL and name. The user's request is enclosed in the backquotes (```).\n",
    "\n",
    "URL: $PRODUCT_URL\n",
    "NAME: $PRODUCT_NAME\n",
    "\n",
    "Begin!!!\n",
    "\n",
    "Request: ```I love soccer game. Tell me good soccer toys?```\n",
    "\"\"\")"
   ]
  }
 ],
 "metadata": {
  "kernelspec": {
   "display_name": "Python 3",
   "language": "python",
   "name": "python3"
  },
  "language_info": {
   "codemirror_mode": {
    "name": "ipython",
    "version": 3
   },
   "file_extension": ".py",
   "mimetype": "text/x-python",
   "name": "python",
   "nbconvert_exporter": "python",
   "pygments_lexer": "ipython3",
   "version": "3.10.8"
  },
  "orig_nbformat": 4
 },
 "nbformat": 4,
 "nbformat_minor": 2
}
