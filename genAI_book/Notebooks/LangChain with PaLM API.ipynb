{
 "cells": [
  {
   "cell_type": "markdown",
   "id": "62b96822-95e0-44c0-9824-63a43bbfdf35",
   "metadata": {},
   "source": [
    "# LangChain と PaLM API を組み合わせて利用する例"
   ]
  },
  {
   "cell_type": "markdown",
   "id": "9a2b73b9-1dd6-4c1d-95ea-5ff200cde0f4",
   "metadata": {},
   "source": [
    "LangChain のパッケージをインストールします。"
   ]
  },
  {
   "cell_type": "code",
   "execution_count": 1,
   "id": "b5f34131-bd6e-4ec1-9ce7-9e4812648df6",
   "metadata": {},
   "outputs": [
    {
     "name": "stdout",
     "output_type": "stream",
     "text": [
      "Collecting langchain==0.0.294\n",
      "  Downloading langchain-0.0.294-py3-none-any.whl.metadata (14 kB)\n",
      "Requirement already satisfied: PyYAML>=5.3 in /opt/conda/lib/python3.10/site-packages (from langchain==0.0.294) (6.0.1)\n",
      "Requirement already satisfied: SQLAlchemy<3,>=1.4 in /opt/conda/lib/python3.10/site-packages (from langchain==0.0.294) (2.0.23)\n",
      "Requirement already satisfied: aiohttp<4.0.0,>=3.8.3 in /opt/conda/lib/python3.10/site-packages (from langchain==0.0.294) (3.8.6)\n",
      "Requirement already satisfied: async-timeout<5.0.0,>=4.0.0 in /opt/conda/lib/python3.10/site-packages (from langchain==0.0.294) (4.0.3)\n",
      "Collecting dataclasses-json<0.6.0,>=0.5.7 (from langchain==0.0.294)\n",
      "  Downloading dataclasses_json-0.5.14-py3-none-any.whl.metadata (22 kB)\n",
      "Collecting langsmith<0.1.0,>=0.0.38 (from langchain==0.0.294)\n",
      "  Downloading langsmith-0.0.77-py3-none-any.whl.metadata (10 kB)\n",
      "Collecting numexpr<3.0.0,>=2.8.4 (from langchain==0.0.294)\n",
      "  Downloading numexpr-2.8.8-cp310-cp310-manylinux_2_17_x86_64.manylinux2014_x86_64.whl.metadata (7.9 kB)\n",
      "Requirement already satisfied: numpy<2,>=1 in /opt/conda/lib/python3.10/site-packages (from langchain==0.0.294) (1.25.2)\n",
      "Requirement already satisfied: pydantic<3,>=1 in /opt/conda/lib/python3.10/site-packages (from langchain==0.0.294) (1.10.13)\n",
      "Requirement already satisfied: requests<3,>=2 in /opt/conda/lib/python3.10/site-packages (from langchain==0.0.294) (2.31.0)\n",
      "Requirement already satisfied: tenacity<9.0.0,>=8.1.0 in /opt/conda/lib/python3.10/site-packages (from langchain==0.0.294) (8.2.3)\n",
      "Requirement already satisfied: attrs>=17.3.0 in /opt/conda/lib/python3.10/site-packages (from aiohttp<4.0.0,>=3.8.3->langchain==0.0.294) (23.1.0)\n",
      "Requirement already satisfied: charset-normalizer<4.0,>=2.0 in /opt/conda/lib/python3.10/site-packages (from aiohttp<4.0.0,>=3.8.3->langchain==0.0.294) (3.3.2)\n",
      "Requirement already satisfied: multidict<7.0,>=4.5 in /opt/conda/lib/python3.10/site-packages (from aiohttp<4.0.0,>=3.8.3->langchain==0.0.294) (6.0.4)\n",
      "Requirement already satisfied: yarl<2.0,>=1.0 in /opt/conda/lib/python3.10/site-packages (from aiohttp<4.0.0,>=3.8.3->langchain==0.0.294) (1.9.2)\n",
      "Requirement already satisfied: frozenlist>=1.1.1 in /opt/conda/lib/python3.10/site-packages (from aiohttp<4.0.0,>=3.8.3->langchain==0.0.294) (1.4.0)\n",
      "Requirement already satisfied: aiosignal>=1.1.2 in /opt/conda/lib/python3.10/site-packages (from aiohttp<4.0.0,>=3.8.3->langchain==0.0.294) (1.3.1)\n",
      "Collecting marshmallow<4.0.0,>=3.18.0 (from dataclasses-json<0.6.0,>=0.5.7->langchain==0.0.294)\n",
      "  Downloading marshmallow-3.20.1-py3-none-any.whl.metadata (7.8 kB)\n",
      "Collecting typing-inspect<1,>=0.4.0 (from dataclasses-json<0.6.0,>=0.5.7->langchain==0.0.294)\n",
      "  Downloading typing_inspect-0.9.0-py3-none-any.whl.metadata (1.5 kB)\n",
      "Requirement already satisfied: typing-extensions>=4.2.0 in /opt/conda/lib/python3.10/site-packages (from pydantic<3,>=1->langchain==0.0.294) (4.8.0)\n",
      "Requirement already satisfied: idna<4,>=2.5 in /opt/conda/lib/python3.10/site-packages (from requests<3,>=2->langchain==0.0.294) (3.4)\n",
      "Requirement already satisfied: urllib3<3,>=1.21.1 in /opt/conda/lib/python3.10/site-packages (from requests<3,>=2->langchain==0.0.294) (1.26.18)\n",
      "Requirement already satisfied: certifi>=2017.4.17 in /opt/conda/lib/python3.10/site-packages (from requests<3,>=2->langchain==0.0.294) (2023.7.22)\n",
      "Requirement already satisfied: greenlet!=0.4.17 in /opt/conda/lib/python3.10/site-packages (from SQLAlchemy<3,>=1.4->langchain==0.0.294) (3.0.1)\n",
      "Requirement already satisfied: packaging>=17.0 in /opt/conda/lib/python3.10/site-packages (from marshmallow<4.0.0,>=3.18.0->dataclasses-json<0.6.0,>=0.5.7->langchain==0.0.294) (23.2)\n",
      "Collecting mypy-extensions>=0.3.0 (from typing-inspect<1,>=0.4.0->dataclasses-json<0.6.0,>=0.5.7->langchain==0.0.294)\n",
      "  Downloading mypy_extensions-1.0.0-py3-none-any.whl (4.7 kB)\n",
      "Downloading langchain-0.0.294-py3-none-any.whl (1.7 MB)\n",
      "\u001b[2K   \u001b[90m━━━━━━━━━━━━━━━━━━━━━━━━━━━━━━━━━━━━━━━━\u001b[0m \u001b[32m1.7/1.7 MB\u001b[0m \u001b[31m45.0 MB/s\u001b[0m eta \u001b[36m0:00:00\u001b[0m00:01\u001b[0m\n",
      "\u001b[?25hDownloading dataclasses_json-0.5.14-py3-none-any.whl (26 kB)\n",
      "Downloading langsmith-0.0.77-py3-none-any.whl (48 kB)\n",
      "\u001b[2K   \u001b[90m━━━━━━━━━━━━━━━━━━━━━━━━━━━━━━━━━━━━━━━━\u001b[0m \u001b[32m48.2/48.2 kB\u001b[0m \u001b[31m4.3 MB/s\u001b[0m eta \u001b[36m0:00:00\u001b[0m\n",
      "\u001b[?25hDownloading numexpr-2.8.8-cp310-cp310-manylinux_2_17_x86_64.manylinux2014_x86_64.whl (374 kB)\n",
      "\u001b[2K   \u001b[90m━━━━━━━━━━━━━━━━━━━━━━━━━━━━━━━━━━━━━━━━\u001b[0m \u001b[32m374.8/374.8 kB\u001b[0m \u001b[31m34.3 MB/s\u001b[0m eta \u001b[36m0:00:00\u001b[0m\n",
      "\u001b[?25hDownloading marshmallow-3.20.1-py3-none-any.whl (49 kB)\n",
      "\u001b[2K   \u001b[90m━━━━━━━━━━━━━━━━━━━━━━━━━━━━━━━━━━━━━━━━\u001b[0m \u001b[32m49.4/49.4 kB\u001b[0m \u001b[31m5.1 MB/s\u001b[0m eta \u001b[36m0:00:00\u001b[0m\n",
      "\u001b[?25hDownloading typing_inspect-0.9.0-py3-none-any.whl (8.8 kB)\n",
      "Installing collected packages: numexpr, mypy-extensions, marshmallow, typing-inspect, langsmith, dataclasses-json, langchain\n",
      "\u001b[33m  WARNING: The script langsmith is installed in '/home/jupyter/.local/bin' which is not on PATH.\n",
      "  Consider adding this directory to PATH or, if you prefer to suppress this warning, use --no-warn-script-location.\u001b[0m\u001b[33m\n",
      "\u001b[0m\u001b[33m  WARNING: The script langchain-server is installed in '/home/jupyter/.local/bin' which is not on PATH.\n",
      "  Consider adding this directory to PATH or, if you prefer to suppress this warning, use --no-warn-script-location.\u001b[0m\u001b[33m\n",
      "\u001b[0mSuccessfully installed dataclasses-json-0.5.14 langchain-0.0.294 langsmith-0.0.77 marshmallow-3.20.1 mypy-extensions-1.0.0 numexpr-2.8.8 typing-inspect-0.9.0\n"
     ]
    }
   ],
   "source": [
    "!pip install --user langchain==0.0.294"
   ]
  },
  {
   "cell_type": "markdown",
   "id": "fa10fb52-1932-4c3d-b1c8-6d13edafd676",
   "metadata": {},
   "source": [
    "## LangChain を用いて、基本的なパインプラインを実行する例"
   ]
  },
  {
   "cell_type": "markdown",
   "id": "37b5c186-5773-4337-a387-1893af6bea5e",
   "metadata": {},
   "source": [
    "新製品の説明文から商品名のアイデアを3つ出してもらうためのプロンプトを定義します。"
   ]
  },
  {
   "cell_type": "code",
   "execution_count": 1,
   "id": "58eb51c9-b721-4f09-a174-ee6f56be6e26",
   "metadata": {},
   "outputs": [],
   "source": [
    "from langchain import PromptTemplate\n",
    "\n",
    "template = \"\"\"\\\n",
    "あなたは新製品の名前を考えるのが専門のコピーライターです。\n",
    "新製品の印象的な名前の案を３つ考えてください。\n",
    "３つの名前をカンマ区切りのリストで出力してください。\n",
    "既存の特定の商品名は含めないでください。\n",
    "\n",
    "次は製品の説明と出力の例です。\n",
    "製品の説明: 子供向けの可愛いクレヨンセット\n",
    "出力：クレヨンキッズ, クレヨンファン, クレヨンワールド\n",
    "\n",
    "次の製品名を考えてください。\n",
    "製品の説明：{description}\n",
    "出力：\n",
    "\"\"\"\n",
    "\n",
    "prompt = PromptTemplate(template=template, input_variables=['description'])"
   ]
  },
  {
   "cell_type": "markdown",
   "id": "afcf3109-47db-4a21-833d-4dc3ea76dfa7",
   "metadata": {},
   "source": [
    "テンプレートに対して、動的に文字列を埋め込むことができます。"
   ]
  },
  {
   "cell_type": "code",
   "execution_count": 2,
   "id": "16eb8bc2-537c-49f8-a21f-977b5bb92622",
   "metadata": {},
   "outputs": [
    {
     "name": "stdout",
     "output_type": "stream",
     "text": [
      "あなたは新製品の名前を考えるのが専門のコピーライターです。\n",
      "新製品の印象的な名前の案を３つ考えてください。\n",
      "３つの名前をカンマ区切りのリストで出力してください。\n",
      "既存の特定の商品名は含めないでください。\n",
      "\n",
      "次は製品の説明と出力の例です。\n",
      "製品の説明: 子供向けの可愛いクレヨンセット\n",
      "出力：クレヨンキッズ, クレヨンファン, クレヨンワールド\n",
      "\n",
      "次の製品名を考えてください。\n",
      "製品の説明：若者向けのカラフルなスマホケース\n",
      "出力：\n",
      "\n"
     ]
    }
   ],
   "source": [
    "print(prompt.format(description='若者向けのカラフルなスマホケース'))"
   ]
  },
  {
   "cell_type": "markdown",
   "id": "34dbf69a-c098-4d34-addb-6a3af8ae86e2",
   "metadata": {},
   "source": [
    "LangChain のパイプラインから PaLM API を呼び出すクライアントオブジェクトを取得します。"
   ]
  },
  {
   "cell_type": "code",
   "execution_count": 3,
   "id": "ea8bb4ee-c148-464e-ab71-b77f1c4e3acb",
   "metadata": {},
   "outputs": [],
   "source": [
    "from langchain.llms import VertexAI\n",
    "llm = VertexAI(model_name='text-bison@002',\n",
    "               temperature=0.4, max_output_tokens=128)"
   ]
  },
  {
   "cell_type": "markdown",
   "id": "946ca43e-5384-4f7d-8f2a-72f5872351ea",
   "metadata": {},
   "source": [
    "パイプラインを定義して実行します。"
   ]
  },
  {
   "cell_type": "code",
   "execution_count": 4,
   "id": "df6ac014-e0fc-4276-b2af-a063c9faaa78",
   "metadata": {},
   "outputs": [],
   "source": [
    "from langchain import LLMChain\n",
    "llm_chain = LLMChain(prompt=prompt, llm=llm)"
   ]
  },
  {
   "cell_type": "code",
   "execution_count": 5,
   "id": "0a0b1c63-d732-48c8-8569-078f08ec62ba",
   "metadata": {},
   "outputs": [
    {
     "name": "stdout",
     "output_type": "stream",
     "text": [
      " ポップケース, カラフルケース, ライトケース\n"
     ]
    }
   ],
   "source": [
    "description = '若者向けの軽くてカラフルなスマホケース'\n",
    "output = llm_chain.run(description)\n",
    "print(output)"
   ]
  },
  {
   "cell_type": "markdown",
   "id": "4c7ef2c5-5c64-42fa-b8ae-2c80509a9ec4",
   "metadata": {},
   "source": [
    "得られた結果を Python のリストに変換します。"
   ]
  },
  {
   "cell_type": "code",
   "execution_count": 6,
   "id": "8cffb834-9244-48ae-8c64-d351e7ab8095",
   "metadata": {},
   "outputs": [],
   "source": [
    "from langchain.output_parsers import CommaSeparatedListOutputParser\n",
    "output_parser = CommaSeparatedListOutputParser()"
   ]
  },
  {
   "cell_type": "code",
   "execution_count": 7,
   "id": "c64b40f9-fabf-415d-ad9d-e72b5725c8f0",
   "metadata": {},
   "outputs": [
    {
     "data": {
      "text/plain": [
       "['ポップケース', 'カラフルケース', 'ライトケース']"
      ]
     },
     "execution_count": 7,
     "metadata": {},
     "output_type": "execute_result"
    }
   ],
   "source": [
    "output_parser.parse(output)"
   ]
  },
  {
   "cell_type": "markdown",
   "id": "815f2267-d146-452b-b848-cf7e3d916ad4",
   "metadata": {},
   "source": [
    "## pydantic を利用して、LLM からの応答をオブジェクトに変換する例"
   ]
  },
  {
   "cell_type": "markdown",
   "id": "446ec808-0f4c-49db-ae8d-5431407c812b",
   "metadata": {},
   "source": [
    "言語モデルからの応答を格納するオブジェクトを定義して、対応するパーサーを生成します。"
   ]
  },
  {
   "cell_type": "code",
   "execution_count": 8,
   "id": "f88b0237-1741-43d4-bba6-35031ae48261",
   "metadata": {},
   "outputs": [],
   "source": [
    "from pydantic import BaseModel, Field\n",
    "\n",
    "class ProductNames(BaseModel):\n",
    "    setup: str = Field(description='product description')\n",
    "    product_name1: str = Field(description='product name 1')\n",
    "    product_name2: str = Field(description='product name 2')\n",
    "    product_name3: str = Field(description='product name 3')"
   ]
  },
  {
   "cell_type": "code",
   "execution_count": 9,
   "id": "96630fd8-000b-4302-8884-645bb3a344f3",
   "metadata": {},
   "outputs": [],
   "source": [
    "from langchain.output_parsers import PydanticOutputParser\n",
    "parser = PydanticOutputParser(pydantic_object=ProductNames)"
   ]
  },
  {
   "cell_type": "markdown",
   "id": "bedbd984-396a-4974-9433-792cfff1044a",
   "metadata": {},
   "source": [
    "このパーサーは、指定のオブジェクトに対応した JSON 形式で応答を得るためのインストラクションが生成できます。"
   ]
  },
  {
   "cell_type": "code",
   "execution_count": 10,
   "id": "4c7dd877-f461-450e-b81c-c45bf66db058",
   "metadata": {},
   "outputs": [
    {
     "name": "stdout",
     "output_type": "stream",
     "text": [
      "The output should be formatted as a JSON instance that conforms to the JSON schema below.\n",
      "\n",
      "As an example, for the schema {\"properties\": {\"foo\": {\"title\": \"Foo\", \"description\": \"a list of strings\", \"type\": \"array\", \"items\": {\"type\": \"string\"}}}, \"required\": [\"foo\"]}\n",
      "the object {\"foo\": [\"bar\", \"baz\"]} is a well-formatted instance of the schema. The object {\"properties\": {\"foo\": [\"bar\", \"baz\"]}} is not well-formatted.\n",
      "\n",
      "Here is the output schema:\n",
      "```\n",
      "{\"properties\": {\"setup\": {\"title\": \"Setup\", \"description\": \"product description\", \"type\": \"string\"}, \"product_name1\": {\"title\": \"Product Name1\", \"description\": \"product name 1\", \"type\": \"string\"}, \"product_name2\": {\"title\": \"Product Name2\", \"description\": \"product name 2\", \"type\": \"string\"}, \"product_name3\": {\"title\": \"Product Name3\", \"description\": \"product name 3\", \"type\": \"string\"}}, \"required\": [\"setup\", \"product_name1\", \"product_name2\", \"product_name3\"]}\n",
      "```\n"
     ]
    }
   ],
   "source": [
    "print(parser.get_format_instructions())"
   ]
  },
  {
   "cell_type": "markdown",
   "id": "59769f8d-1b1b-443b-8569-d609c2410f28",
   "metadata": {},
   "source": [
    "パーサーが生成するインストラクションを含んだプロンプトを定義した後、パイプラインを再構成します。"
   ]
  },
  {
   "cell_type": "code",
   "execution_count": 11,
   "id": "988eaea3-4d95-45f1-ba1a-5baa8abe3778",
   "metadata": {},
   "outputs": [],
   "source": [
    "template=\"\"\"\\\n",
    "あなたは新製品の名前を考えるのが専門のコピーライターです。\n",
    "新製品の印象的な名前の案を日本語で３つ考えてください。\n",
    "既存の特定の商品名は含めないでください。\n",
    "\n",
    "{format_instructions}\n",
    "\n",
    "製品の説明: {description}\n",
    "\"\"\"\n",
    "\n",
    "prompt = PromptTemplate(\n",
    "    template=template,\n",
    "    input_variables=['description'],\n",
    "    partial_variables={\n",
    "        'format_instructions': parser.get_format_instructions()}\n",
    ")\n",
    "\n",
    "llm_chain = LLMChain(prompt=prompt, llm=llm)"
   ]
  },
  {
   "cell_type": "markdown",
   "id": "0427f3c5-714c-4238-96cf-9bd03d5bdca8",
   "metadata": {},
   "source": [
    "パイプラインを実行して、得られた結果を ProductNames オブジェクトに変換します。"
   ]
  },
  {
   "cell_type": "code",
   "execution_count": 12,
   "id": "1404ed32-4c2d-4961-87c8-acaec2d3f400",
   "metadata": {},
   "outputs": [
    {
     "data": {
      "text/plain": [
       "ProductNames(setup='象が踏んでも壊れないスマホケース', product_name1='アイアンケース', product_name2='タフガード', product_name3='エレファントプロテクター')"
      ]
     },
     "execution_count": 12,
     "metadata": {},
     "output_type": "execute_result"
    }
   ],
   "source": [
    "description = '象が踏んでも壊れないスマホケース'\n",
    "parser.parse(llm_chain.run(description))"
   ]
  },
  {
   "cell_type": "markdown",
   "id": "5b86d4db-824b-4a22-8ba7-df702fe90bda",
   "metadata": {},
   "source": [
    "## パーサーを含んだパイプラインを定義する例"
   ]
  },
  {
   "cell_type": "markdown",
   "id": "3bb2e8c2-27f8-45e9-8f28-2e5e1fb4f24b",
   "metadata": {},
   "source": [
    "TransformChain と SequentialChain を使用すると、パーサーを含んだ一連の処理をまとめてパイプラインとして定義できます。"
   ]
  },
  {
   "cell_type": "code",
   "execution_count": 13,
   "id": "d295b947-e794-4899-b772-e3cec4434a73",
   "metadata": {},
   "outputs": [],
   "source": [
    "from langchain.chains import TransformChain, SequentialChain\n",
    "\n",
    "llm_chain = LLMChain(prompt=prompt, llm=llm, output_key='json_string')\n",
    "\n",
    "def parse_output(inputs):\n",
    "    text = inputs['json_string']\n",
    "    return {'result': parser.parse(text)}\n",
    "\n",
    "transform_chain = TransformChain(\n",
    "    input_variables=['json_string'],\n",
    "    output_variables=['result'],\n",
    "    transform=parse_output\n",
    ")\n",
    "\n",
    "chain = SequentialChain(\n",
    "    input_variables=['description'],\n",
    "    output_variables=['result'],\n",
    "    chains=[llm_chain, transform_chain],\n",
    ")"
   ]
  },
  {
   "cell_type": "code",
   "execution_count": 14,
   "id": "e22408f0-bbf3-4bc2-9b36-6f58a3b88539",
   "metadata": {
    "tags": []
   },
   "outputs": [
    {
     "data": {
      "text/plain": [
       "ProductNames(setup='象が踏んでも壊れないスマホケース', product_name1='アイアンケース', product_name2='タフガード', product_name3='エレファントプロテクター')"
      ]
     },
     "execution_count": 14,
     "metadata": {},
     "output_type": "execute_result"
    }
   ],
   "source": [
    "description = '象が踏んでも壊れないスマホケース'\n",
    "chain.run(description=description)"
   ]
  }
 ],
 "metadata": {
  "environment": {
   "kernel": "conda-root-py",
   "name": "workbench-notebooks.m113",
   "type": "gcloud",
   "uri": "gcr.io/deeplearning-platform-release/workbench-notebooks:m113"
  },
  "kernelspec": {
   "display_name": "Python 3 (ipykernel) (Local)",
   "language": "python",
   "name": "conda-root-py"
  },
  "language_info": {
   "codemirror_mode": {
    "name": "ipython",
    "version": 3
   },
   "file_extension": ".py",
   "mimetype": "text/x-python",
   "name": "python",
   "nbconvert_exporter": "python",
   "pygments_lexer": "ipython3",
   "version": "3.10.13"
  }
 },
 "nbformat": 4,
 "nbformat_minor": 5
}
