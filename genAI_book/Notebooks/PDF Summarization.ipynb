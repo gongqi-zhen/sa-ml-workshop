{
 "cells": [
  {
   "cell_type": "markdown",
   "id": "656bd8ee-6b9c-43e9-8fe9-a7c0908946a1",
   "metadata": {},
   "source": [
    "# LangChain と PaLM API で PDF ドキュメントの要約を行う例"
   ]
  },
  {
   "cell_type": "markdown",
   "id": "98173ce1-e71d-4ff7-ab85-36c021e41507",
   "metadata": {},
   "source": [
    "LangChain のパッケージ、および、PDF の扱いに必要なパッケージをインストールします。"
   ]
  },
  {
   "cell_type": "code",
   "execution_count": null,
   "id": "0da8d06b-585b-41bf-a7e3-b06c2b9ad2b8",
   "metadata": {
    "tags": []
   },
   "outputs": [],
   "source": [
    "!pip install --user \\\n",
    "  langchain==0.0.294 transformers==4.34.0 \\\n",
    "  pypdf==3.16.1 cryptography==41.0.4"
   ]
  },
  {
   "cell_type": "markdown",
   "id": "4f535703-182c-41ae-b444-ab7d616cd1ec",
   "metadata": {},
   "source": [
    "NISC が一般公開している「[インターネットの安全・安心ハンドブック](https://security-portal.nisc.go.jp/guidance/handbook.html)」のプロローグ部分をダウンロードします。\n",
    "\n",
    "\n",
    "\n"
   ]
  },
  {
   "cell_type": "code",
   "execution_count": 1,
   "id": "20658657-62b0-499c-ba1c-8035e2641a53",
   "metadata": {},
   "outputs": [],
   "source": [
    "!wget -q https://raw.githubusercontent.com/enakai00/cloud_genAI_app_book/main/PDF/handbook-prologue.pdf"
   ]
  },
  {
   "cell_type": "markdown",
   "id": "4acc0f20-d11b-4ed7-94a5-991399112e72",
   "metadata": {},
   "source": [
    "ダウンロードした PDF を読み込んで、全体を1つのテキストにまとめます。"
   ]
  },
  {
   "cell_type": "code",
   "execution_count": 2,
   "id": "18d6ea81-f7e2-44c6-8bbf-456d2e874b72",
   "metadata": {},
   "outputs": [],
   "source": [
    "from langchain.document_loaders import PyPDFLoader\n",
    "\n",
    "pages = PyPDFLoader('handbook-prologue.pdf').load()\n",
    "document = ''\n",
    "for page in pages:\n",
    "    document += page.page_content"
   ]
  },
  {
   "cell_type": "markdown",
   "id": "a6cfbcfd-01ba-433a-aea8-eff339803931",
   "metadata": {},
   "source": [
    "PaLM API を利用するクライアントオブジェクトを取得します。"
   ]
  },
  {
   "cell_type": "code",
   "execution_count": 3,
   "id": "0cce396e-5b5f-4c47-960a-eab4e8d4a631",
   "metadata": {},
   "outputs": [],
   "source": [
    "from langchain.llms import VertexAI\n",
    "llm = VertexAI(model_name='text-bison@002',\n",
    "               temperature=0.1, max_output_tokens=1024)"
   ]
  },
  {
   "cell_type": "markdown",
   "id": "56742592-eda6-4525-8d2b-eb19ea8aacca",
   "metadata": {},
   "source": [
    "RecursiveCharacterTextSplitter, load_qa_chain, AnalyzeDocumentChain モジュールの使用例です。\n",
    "\n",
    "`input_document` に与えたテキストに基づいて、`question` の質問に回答します。"
   ]
  },
  {
   "cell_type": "code",
   "execution_count": 49,
   "id": "d04ef7b6-7556-458f-9f42-115d7b00dea3",
   "metadata": {},
   "outputs": [
    {
     "data": {
      "text/plain": [
       "' 最近の天候は雨が多いです。'"
      ]
     },
     "execution_count": 49,
     "metadata": {},
     "output_type": "execute_result"
    }
   ],
   "source": [
    "from langchain.text_splitter import RecursiveCharacterTextSplitter\n",
    "from langchain.chains.question_answering import load_qa_chain\n",
    "from langchain.chains import AnalyzeDocumentChain\n",
    "\n",
    "text_splitter = RecursiveCharacterTextSplitter(\n",
    "    chunk_size=6000, chunk_overlap=200)\n",
    "qa_chain = load_qa_chain(llm, chain_type='map_reduce')\n",
    "qa_document_chain = AnalyzeDocumentChain(\n",
    "    combine_docs_chain=qa_chain, text_splitter=text_splitter)\n",
    "\n",
    "qa_document_chain.run(\n",
    "    input_document='今は６月で雨が多い時期です。', question='最近の天候は？')"
   ]
  },
  {
   "cell_type": "markdown",
   "id": "a957ae75-420b-4d60-bf79-1eaf8a5b452e",
   "metadata": {},
   "source": [
    "`input_document` に与えたテキストの内容をまとめるように指示して結果を得る関数を用意します。"
   ]
  },
  {
   "cell_type": "code",
   "execution_count": 42,
   "id": "de173cf8-1420-41dc-89c3-10f5847df26f",
   "metadata": {},
   "outputs": [],
   "source": [
    "def get_description(document):\n",
    "    text_splitter = RecursiveCharacterTextSplitter(\n",
    "        chunk_size=4000, chunk_overlap=200)\n",
    "    qa_chain = load_qa_chain(llm, chain_type='map_reduce')\n",
    "    qa_document_chain = AnalyzeDocumentChain(\n",
    "        combine_docs_chain=qa_chain, text_splitter=text_splitter)\n",
    "\n",
    "    prompt = '何についての文書ですか？日本語で200字程度にまとめて教えてください。'\n",
    "\n",
    "    description = qa_document_chain.run(\n",
    "        input_document=document, question=prompt)\n",
    "    return description"
   ]
  },
  {
   "cell_type": "markdown",
   "id": "47382292-1205-4132-aede-aebc40e31e7b",
   "metadata": {},
   "source": [
    "先に用意した PDF ファイルを適用します。"
   ]
  },
  {
   "cell_type": "code",
   "execution_count": 43,
   "id": "23c012c2-f290-404d-99c7-b26a9553a2e0",
   "metadata": {},
   "outputs": [
    {
     "name": "stdout",
     "output_type": "stream",
     "text": [
      " この文書は、サイバー攻撃について説明しています。サイバー攻撃とは、コンピュータやネットワークを介して行われる攻撃のことです。サイバー攻撃には、マルウェアの感染、フィッシング詐欺、ランサムウェア、ボットネット、BEC（ビジネスメール詐欺）などがあります。これらの攻撃は、個人や企業に大きな被害をもたらす可能性があります。\n"
     ]
    }
   ],
   "source": [
    "print(get_description(document))"
   ]
  },
  {
   "cell_type": "markdown",
   "id": "bd00f32a-e33b-4455-a6cf-071710b6d395",
   "metadata": {},
   "source": [
    "任意の質問に答える関数を用意します。"
   ]
  },
  {
   "cell_type": "code",
   "execution_count": 37,
   "id": "0412c4fd-aa20-47cc-a699-128bdc8ac630",
   "metadata": {},
   "outputs": [],
   "source": [
    "def get_answer(document, question):\n",
    "    text_splitter = RecursiveCharacterTextSplitter(\n",
    "        chunk_size=4000, chunk_overlap=200)\n",
    "    qa_chain = load_qa_chain(llm, chain_type='refine')\n",
    "    qa_document_chain = AnalyzeDocumentChain(\n",
    "        combine_docs_chain=qa_chain, text_splitter=text_splitter)\n",
    "\n",
    "    prompt = '{} 日本語で200字程度にまとめて教えてください。'.format(question)\n",
    "    answer = qa_document_chain.run(\n",
    "        input_document=document, question=prompt)\n",
    "    return answer"
   ]
  },
  {
   "cell_type": "markdown",
   "id": "3cfc48c9-333b-4b9c-a166-026cb923a167",
   "metadata": {},
   "source": [
    "先に用意した PDF ファイルに基づいて、質問の回答を取得します。"
   ]
  },
  {
   "cell_type": "code",
   "execution_count": 41,
   "id": "00cfc5cd-509d-4e98-a1e4-5066d2568958",
   "metadata": {},
   "outputs": [
    {
     "name": "stdout",
     "output_type": "stream",
     "text": [
      " サイバーセキュリティ対策のポイント\n",
      "\n",
      "・OSやソフトウェアは常に最新の状態にしておく。\n",
      "・多要素認証を利用する。\n",
      "・偽メールや偽サイトに騙されないように用心する。\n",
      "・スマホやPCの画面ロックを利用する。\n",
      "・大切な情報は失う前にバックアップする。\n",
      "・外出先では紛失・盗難・覗き見に注意する。\n",
      "・困ったときは1人で悩まず、まず相談する。\n",
      "・パスワードは長く複雑にして、他と使い回さないようにする。\n",
      "・心当たりのない送信元からのメールに添付されているファイルやリンクには注意する。\n"
     ]
    }
   ],
   "source": [
    "question = 'サイバーセキュリティ対策のポイントを箇条書きにまとめてください。'\n",
    "print(get_answer(document, question))"
   ]
  }
 ],
 "metadata": {
  "environment": {
   "kernel": "conda-root-py",
   "name": "workbench-notebooks.m113",
   "type": "gcloud",
   "uri": "gcr.io/deeplearning-platform-release/workbench-notebooks:m113"
  },
  "kernelspec": {
   "display_name": "Python 3 (ipykernel) (Local)",
   "language": "python",
   "name": "conda-root-py"
  },
  "language_info": {
   "codemirror_mode": {
    "name": "ipython",
    "version": 3
   },
   "file_extension": ".py",
   "mimetype": "text/x-python",
   "name": "python",
   "nbconvert_exporter": "python",
   "pygments_lexer": "ipython3",
   "version": "3.10.13"
  }
 },
 "nbformat": 4,
 "nbformat_minor": 5
}
