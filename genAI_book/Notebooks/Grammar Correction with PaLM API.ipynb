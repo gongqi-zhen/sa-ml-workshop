{
 "cells": [
  {
   "cell_type": "markdown",
   "id": "bd53f603-9fe1-404a-86be-1b5071811af2",
   "metadata": {},
   "source": [
    "# Gemini API を英語の学習に役立てる例"
   ]
  },
  {
   "cell_type": "markdown",
   "id": "f8436131-7335-457d-9a92-8ff352137687",
   "metadata": {},
   "source": [
    "言語モデルの応答を得る関数 `get_response()` を定義します。"
   ]
  },
  {
   "cell_type": "code",
   "execution_count": 1,
   "id": "fa562e9a-460b-47ef-a0b7-fed5d52d84ae",
   "metadata": {
    "tags": []
   },
   "outputs": [],
   "source": [
    "import vertexai\n",
    "from vertexai import generative_models\n",
    "\n",
    "vertexai.init(location='asia-northeast1')\n",
    "generation_model = generative_models.GenerativeModel('gemini-1.5-flash-001')\n",
    "\n",
    "def get_response(prompt, temperature=0.2):\n",
    "    response = generation_model.generate_content(\n",
    "        prompt, generation_config={'temperature': temperature, 'max_output_tokens': 1024})\n",
    "    return response.text.lstrip()"
   ]
  },
  {
   "cell_type": "markdown",
   "id": "df7cc655-3104-4878-b7ef-5d3c23c2aff8",
   "metadata": {},
   "source": [
    "英文の誤りを訂正して、正しい文法で書き直します。"
   ]
  },
  {
   "cell_type": "code",
   "execution_count": 2,
   "id": "22db5c6a-b695-4e61-80b4-54642a785fce",
   "metadata": {
    "tags": []
   },
   "outputs": [
    {
     "name": "stdout",
     "output_type": "stream",
     "text": [
      "I went to school yesterday. I ate an apple for lunch. I like to eat apples. \n",
      "\n"
     ]
    }
   ],
   "source": [
    "prompt = '''\\\n",
    "「text:」以下の英文を正しい英文法の文章に書き直してください。\n",
    "書き直した文章のみを出力すること。\n",
    "\n",
    "text: I go to school yesterday. I eat apple lunch. I like eat apple.\n",
    "'''\n",
    "print(get_response(prompt))"
   ]
  },
  {
   "cell_type": "markdown",
   "id": "c7be097f-7fe1-45d5-803b-37b90d85fcdf",
   "metadata": {},
   "source": [
    "より洗練された表現の例を教えてもらいます。"
   ]
  },
  {
   "cell_type": "code",
   "execution_count": 3,
   "id": "f24dc158-ca23-474e-8009-2444ba94e278",
   "metadata": {
    "tags": []
   },
   "outputs": [
    {
     "name": "stdout",
     "output_type": "stream",
     "text": [
      "## より自然で洗練された英文の例：\n",
      "\n",
      "**1.  シンプルで自然な表現:**\n",
      "\n",
      "> I went to school yesterday. I ate an apple for lunch. I like eating apples.\n",
      "\n",
      "**2.  少し洗練された表現:**\n",
      "\n",
      "> I attended school yesterday. I had an apple for lunch. I enjoy eating apples.\n",
      "\n",
      "**3.  より洗練された表現:**\n",
      "\n",
      "> I was at school yesterday. I enjoyed an apple for lunch. I have a fondness for apples. \n",
      "\n",
      "**解説:**\n",
      "\n",
      "* **時制:**  \"I go to school yesterday\" は文法的に誤りです。過去形 \"went\" を使う必要があります。\n",
      "* **冠詞:** \"apple\" は可算名詞なので、冠詞 \"an\" が必要です。\n",
      "* **動詞:** \"eat\" は動詞ですが、\"like\" と組み合わせる場合は \"eating\" のように動名詞にするのが自然です。\n",
      "* **語彙:** \"eat\" よりも \"have\" や \"enjoy\" を使うことで、より自然で洗練された表現になります。\n",
      "\n",
      "これらの例は、元の文章をより自然で洗練された英文に書き直したものです。文脈や状況に合わせて、適切な表現を選ぶようにしましょう。\n",
      "\n"
     ]
    }
   ],
   "source": [
    "prompt = '''\\\n",
    "「text:」以下の英文をより自然で洗練された英文に書き直した例を３つ示してください。\n",
    "\n",
    "text: I go to school yesterday. I eat apple lunch. I like eat apple.\n",
    "'''\n",
    "print(get_response(prompt))"
   ]
  },
  {
   "cell_type": "markdown",
   "id": "f80b2829-1f39-4d67-a004-0455200e8088",
   "metadata": {},
   "source": [
    "回答例を示すことで、回答のフォーマットを固定します。"
   ]
  },
  {
   "cell_type": "code",
   "execution_count": 4,
   "id": "b5ed7a2b-af1a-4427-b780-e87c81d671f0",
   "metadata": {
    "tags": []
   },
   "outputs": [
    {
     "name": "stdout",
     "output_type": "stream",
     "text": [
      "- How are you doing? I sent you a picture yesterday. It's funny, I hope you like it!\n",
      "- How are you? I sent you a funny picture yesterday. I hope you enjoyed it!\n",
      "- Hey, how are you? I sent you a picture yesterday. It's pretty funny, I thought you might like it. \n",
      "\n"
     ]
    }
   ],
   "source": [
    "prompt = '''\\\n",
    "「text:」以下の英文をより自然で洗練された英文に書き直した例を３つ示してください。書き直した文章のみを出力すること。\n",
    "\n",
    "text: I went to school yesterday. I ate an apple for lunch. I like eat apple.\n",
    "answer:\n",
    "- I went to school yesterday. I had an apple for lunch. I love apples.\n",
    "- Yesterday, I went to school. I had an apple for lunch. I really enjoy eating apples.\n",
    "- Yesterday, I went to school. I had an apple for lunch. Apples are my favorite fruit.\n",
    "\n",
    "次が本当の質問です。これに回答してください。\n",
    "text: How are you? I send picture yesterday. It's funny and you like it.\n",
    "answer:\n",
    "'''\n",
    "print(get_response(prompt, temperature=0.4))"
   ]
  }
 ],
 "metadata": {
  "environment": {
   "kernel": "conda-base-py",
   "name": "workbench-notebooks.m123",
   "type": "gcloud",
   "uri": "us-docker.pkg.dev/deeplearning-platform-release/gcr.io/workbench-notebooks:m123"
  },
  "kernelspec": {
   "display_name": "Python 3 (ipykernel)",
   "language": "python",
   "name": "conda-base-py"
  },
  "language_info": {
   "codemirror_mode": {
    "name": "ipython",
    "version": 3
   },
   "file_extension": ".py",
   "mimetype": "text/x-python",
   "name": "python",
   "nbconvert_exporter": "python",
   "pygments_lexer": "ipython3",
   "version": "3.10.14"
  }
 },
 "nbformat": 4,
 "nbformat_minor": 5
}
