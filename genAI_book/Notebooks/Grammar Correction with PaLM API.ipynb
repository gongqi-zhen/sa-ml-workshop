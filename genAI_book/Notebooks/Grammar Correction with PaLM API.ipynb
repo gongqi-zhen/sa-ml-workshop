{
 "cells": [
  {
   "cell_type": "markdown",
   "id": "bd53f603-9fe1-404a-86be-1b5071811af2",
   "metadata": {},
   "source": [
    "# PaLM API を英語の学習に役立てる例"
   ]
  },
  {
   "cell_type": "markdown",
   "id": "f8436131-7335-457d-9a92-8ff352137687",
   "metadata": {},
   "source": [
    "言語モデルの応答を得る関数 `get_response()` を定義します。"
   ]
  },
  {
   "cell_type": "code",
   "execution_count": 1,
   "id": "fa562e9a-460b-47ef-a0b7-fed5d52d84ae",
   "metadata": {},
   "outputs": [],
   "source": [
    "from vertexai.preview.language_models import TextGenerationModel\n",
    "generation_model = TextGenerationModel.from_pretrained('text-bison@002')\n",
    "\n",
    "def get_response(prompt, temperature=0.2):\n",
    "    response = generation_model.predict(\n",
    "         prompt, temperature=temperature, max_output_tokens=1024)\n",
    "    return response.text.lstrip()"
   ]
  },
  {
   "cell_type": "markdown",
   "id": "df7cc655-3104-4878-b7ef-5d3c23c2aff8",
   "metadata": {},
   "source": [
    "英文の誤りを訂正して、正しい文法で書き直します。"
   ]
  },
  {
   "cell_type": "code",
   "execution_count": 2,
   "id": "22db5c6a-b695-4e61-80b4-54642a785fce",
   "metadata": {},
   "outputs": [
    {
     "name": "stdout",
     "output_type": "stream",
     "text": [
      "I went to school yesterday. I ate an apple for lunch. I like eating apples.\n"
     ]
    }
   ],
   "source": [
    "prompt = '''\\\n",
    "「text:」以下の英文を正しい英文法の文章に書き直してください。\n",
    "\n",
    "text: I go to school yesterday. I eat apple lunch. I like eat apple.\n",
    "'''\n",
    "print(get_response(prompt))"
   ]
  },
  {
   "cell_type": "markdown",
   "id": "c7be097f-7fe1-45d5-803b-37b90d85fcdf",
   "metadata": {},
   "source": [
    "より洗練された表現の例を教えてもらいます。"
   ]
  },
  {
   "cell_type": "code",
   "execution_count": 3,
   "id": "f24dc158-ca23-474e-8009-2444ba94e278",
   "metadata": {},
   "outputs": [
    {
     "name": "stdout",
     "output_type": "stream",
     "text": [
      "**例１**\n",
      "I went to school yesterday. I had an apple for lunch. I like eating apples.\n",
      "\n",
      "**例２**\n",
      "Yesterday, I attended school. During my lunch break, I enjoyed eating an apple. I have a fondness for apples.\n",
      "\n",
      "**例３**\n",
      "I attended school yesterday and had an apple for lunch. I find great pleasure in consuming apples.\n"
     ]
    }
   ],
   "source": [
    "prompt = '''\\\n",
    "「text:」以下の英文をより自然で洗練された英文に書き直した例を３つ示してください。\n",
    "\n",
    "text: I go to school yesterday. I eat apple lunch. I like eat apple.\n",
    "'''\n",
    "print(get_response(prompt))"
   ]
  },
  {
   "cell_type": "markdown",
   "id": "f80b2829-1f39-4d67-a004-0455200e8088",
   "metadata": {},
   "source": [
    "回答例を示すことで、回答のフォーマットを固定します。"
   ]
  },
  {
   "cell_type": "code",
   "execution_count": 4,
   "id": "b5ed7a2b-af1a-4427-b780-e87c81d671f0",
   "metadata": {
    "tags": []
   },
   "outputs": [
    {
     "name": "stdout",
     "output_type": "stream",
     "text": [
      "- How are you? I sent you a picture yesterday. It's funny, and I think you'll like it.\n",
      "- How are you? I sent you a funny picture yesterday. I hope you like it!\n",
      "- How are you? I sent you a picture yesterday. It's funny, and I thought you might enjoy it.\n"
     ]
    }
   ],
   "source": [
    "prompt = '''\\\n",
    "「text:」以下の英文をより自然で洗練された英文に書き直した例を３つ示してください。\n",
    "\n",
    "回答例\n",
    "text: I went to school yesterday. I ate an apple for lunch. I like eat apple.\n",
    "answer:\n",
    "- I went to school yesterday. I had an apple for lunch. I love apples.\n",
    "- Yesterday, I went to school. I had an apple for lunch. I really enjoy eating apples.\n",
    "- Yesterday, I went to school. I had an apple for lunch. Apples are my favorite fruit.\n",
    "\n",
    "次が本当の質問です。これに回答してください。\n",
    "text: How are you? I send picture yesterday. It's funny and you like it.\n",
    "answer:\n",
    "'''\n",
    "print(get_response(prompt, temperature=0.4))"
   ]
  }
 ],
 "metadata": {
  "environment": {
   "kernel": "conda-root-py",
   "name": "workbench-notebooks.m113",
   "type": "gcloud",
   "uri": "gcr.io/deeplearning-platform-release/workbench-notebooks:m113"
  },
  "kernelspec": {
   "display_name": "Python 3 (ipykernel) (Local)",
   "language": "python",
   "name": "conda-root-py"
  },
  "language_info": {
   "codemirror_mode": {
    "name": "ipython",
    "version": 3
   },
   "file_extension": ".py",
   "mimetype": "text/x-python",
   "name": "python",
   "nbconvert_exporter": "python",
   "pygments_lexer": "ipython3",
   "version": "3.10.13"
  }
 },
 "nbformat": 4,
 "nbformat_minor": 5
}
