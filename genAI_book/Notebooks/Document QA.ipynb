{
 "cells": [
  {
   "cell_type": "markdown",
   "id": "6842dd21-c69a-4696-aeb5-82d4415b955d",
   "metadata": {},
   "source": [
    "# LangChain, PostgreSQL, PaLM API でドキュメント QA を行う例"
   ]
  },
  {
   "cell_type": "markdown",
   "id": "efbfb671-ff4f-40a0-9fe8-0ebde5e3afef",
   "metadata": {},
   "source": [
    "以下のパッケージをインストールします。\n",
    "- LangChain 関係のパッケージ\n",
    "- PDF の扱いに必要なパッケージ\n",
    "- CloudSQL の PostgreSQL インスタンスにアクセスするためのパッケージ"
   ]
  },
  {
   "cell_type": "code",
   "execution_count": null,
   "id": "8307c5d9-458e-46a9-b32e-803015cd8f48",
   "metadata": {
    "tags": []
   },
   "outputs": [],
   "source": [
    "!pip install --user \\\n",
    "  langchain==0.0.294 transformers==4.34.0 \\\n",
    "  pypdf==3.16.1 cryptography==41.0.4 \\\n",
    "  pg8000==1.30.2 cloud-sql-python-connector[pg8000]==1.4.2"
   ]
  },
  {
   "cell_type": "markdown",
   "id": "2eb36d77-ce22-412a-ab85-8944fd010516",
   "metadata": {},
   "source": [
    "テキストエンベディング API を試してみます。1つのテキストから、768次元の埋め込みベクトルが得られます。"
   ]
  },
  {
   "cell_type": "code",
   "execution_count": 1,
   "id": "cd20c20a-c009-4ce2-b254-a43c141845cc",
   "metadata": {
    "tags": []
   },
   "outputs": [],
   "source": [
    "from langchain.embeddings import VertexAIEmbeddings\n",
    "embeddings = VertexAIEmbeddings(\n",
    "    model_name='textembedding-gecko-multilingual@001')\n",
    "embedding_vectors = embeddings.embed_documents(['今日は快晴です。'])"
   ]
  },
  {
   "cell_type": "code",
   "execution_count": 2,
   "id": "866a3772-2bda-4b5b-b652-32ae73e0417a",
   "metadata": {
    "tags": []
   },
   "outputs": [
    {
     "data": {
      "text/plain": [
       "(1, 768)"
      ]
     },
     "execution_count": 2,
     "metadata": {},
     "output_type": "execute_result"
    }
   ],
   "source": [
    "len(embedding_vectors), len(embedding_vectors[0])"
   ]
  },
  {
   "cell_type": "code",
   "execution_count": 3,
   "id": "25bc40f9-75df-45f9-9b4f-f1d4b27d9bec",
   "metadata": {
    "tags": []
   },
   "outputs": [
    {
     "data": {
      "text/plain": [
       "[-0.0179434884339571,\n",
       " -0.04552078992128372,\n",
       " 0.024210568517446518,\n",
       " 0.04991632699966431,\n",
       " -0.07940352708101273]"
      ]
     },
     "execution_count": 3,
     "metadata": {},
     "output_type": "execute_result"
    }
   ],
   "source": [
    "embedding_vectors[0][:5]"
   ]
  },
  {
   "cell_type": "markdown",
   "id": "52d99dfb-b7c5-4889-bed2-36b2ce10e22d",
   "metadata": {
    "tags": []
   },
   "source": [
    "デジタル庁が一般公開している「[アジャイル開発実践ガイドブック](https://www.digital.go.jp/resources/standard_guidelines)」の PDF ファイルをダウンロードします。"
   ]
  },
  {
   "cell_type": "code",
   "execution_count": 4,
   "id": "589b561b-a315-4699-8012-4e2282980cb4",
   "metadata": {
    "tags": []
   },
   "outputs": [],
   "source": [
    "!wget -q https://raw.githubusercontent.com/enakai00/cloud_genAI_app_book/main/PDF/agile-guidebook.pdf"
   ]
  },
  {
   "cell_type": "markdown",
   "id": "0a9083f9-7354-4226-8bb8-12d3bc41753b",
   "metadata": {},
   "source": [
    "PDF ファイルの内容をページごとに分割して、それぞれのページの埋め込みベクトルを生成します。"
   ]
  },
  {
   "cell_type": "code",
   "execution_count": 5,
   "id": "ffe08a39-6b82-4ba5-bfa8-057485bd6e53",
   "metadata": {
    "tags": []
   },
   "outputs": [],
   "source": [
    "from langchain.document_loaders import PyPDFLoader\n",
    "pages = PyPDFLoader('agile-guidebook.pdf').load()\n",
    "page_contents = [page.page_content for page in pages]\n",
    "embedding_vectors = embeddings.embed_documents(page_contents)"
   ]
  },
  {
   "cell_type": "code",
   "execution_count": 6,
   "id": "84e2fcf9-7564-4430-ad1a-94bea71792f8",
   "metadata": {
    "tags": []
   },
   "outputs": [
    {
     "data": {
      "text/plain": [
       "(37, 768)"
      ]
     },
     "execution_count": 6,
     "metadata": {},
     "output_type": "execute_result"
    }
   ],
   "source": [
    "len(embedding_vectors), len(embedding_vectors[0])"
   ]
  },
  {
   "cell_type": "markdown",
   "id": "f513bbb1-2340-4fd4-81a9-bd2b814ddfd3",
   "metadata": {},
   "source": [
    "PostgreSQL に接続するためのコネクションプールを用意します。"
   ]
  },
  {
   "cell_type": "code",
   "execution_count": 7,
   "id": "174367e8-2793-49cd-b73a-4d07e107559b",
   "metadata": {
    "tags": []
   },
   "outputs": [],
   "source": [
    "import google.auth\n",
    "import sqlalchemy\n",
    "from google.cloud.sql.connector import Connector\n",
    "\n",
    "_, project_id = google.auth.default()\n",
    "region = 'asia-northeast1'\n",
    "instance_name = 'genai-app-db'\n",
    "INSTANCE_CONNECTION_NAME = '{}:{}:{}'.format(\n",
    "    project_id, region, instance_name)\n",
    "DB_USER = 'db-admin'\n",
    "DB_PASS = 'genai-db-admin'\n",
    "DB_NAME = 'docs_db'\n",
    "\n",
    "connector = Connector()\n",
    "\n",
    "def getconn():\n",
    "    return connector.connect(\n",
    "        INSTANCE_CONNECTION_NAME, 'pg8000',\n",
    "        user=DB_USER, password=DB_PASS, db=DB_NAME)\n",
    "\n",
    "pool = sqlalchemy.create_engine('postgresql+pg8000://', creator=getconn)"
   ]
  },
  {
   "cell_type": "markdown",
   "id": "f5e4893c-e5e8-433e-8092-25f6d71f42be",
   "metadata": {},
   "source": [
    "埋め込みベクトルをデータベースから削除、および、データベースに保存する関数を定義します。"
   ]
  },
  {
   "cell_type": "code",
   "execution_count": 8,
   "id": "1ca5fc21-d2a4-4416-8191-3fb7d04d14c9",
   "metadata": {
    "tags": []
   },
   "outputs": [],
   "source": [
    "def delete_doc(docid):\n",
    "    with pool.connect() as db_conn:\n",
    "        delete_stmt = sqlalchemy.text(\n",
    "            'DELETE FROM docs_embeddings WHERE docid=:docid;'\n",
    "        )\n",
    "        parameters = {'docid': docid}\n",
    "        db_conn.execute(delete_stmt, parameters=parameters)\n",
    "        db_conn.commit()\n",
    "\n",
    "def insert_doc(docid, uid, filename, page, content, embedding_vector):\n",
    "    with pool.connect() as db_conn:\n",
    "        insert_stmt = sqlalchemy.text(\n",
    "            'INSERT INTO docs_embeddings \\\n",
    "             (docid, uid, filename, page, content, embedding) \\\n",
    "             VALUES (:docid, :uid, :filename, :page, :content, :embedding);'\n",
    "        )\n",
    "        parameters = {\n",
    "            'docid': docid,\n",
    "            'uid': uid,\n",
    "            'filename': filename,\n",
    "            'page': page,\n",
    "            'content': content,\n",
    "            'embedding': embedding_vector\n",
    "        }\n",
    "        db_conn.execute(insert_stmt, parameters=parameters)\n",
    "        db_conn.commit()"
   ]
  },
  {
   "cell_type": "markdown",
   "id": "7b597be2-6a47-4daa-b282-49dffdae6f14",
   "metadata": {},
   "source": [
    "先ほどのドキュメントの各ページの埋め込みベクトルをデータベースに保存します。"
   ]
  },
  {
   "cell_type": "code",
   "execution_count": 9,
   "id": "f5065064-b80c-4a37-a224-2942f10dcc57",
   "metadata": {
    "tags": []
   },
   "outputs": [],
   "source": [
    "docid = 'dummy_id'\n",
    "uid = 'dummy_uid'\n",
    "filename = 'agile-guidebook.pdf'\n",
    "\n",
    "delete_doc(docid)        \n",
    "for c, embedding_vector in enumerate(embedding_vectors):\n",
    "    page = c+1\n",
    "    insert_doc(docid, uid, filename, page,\n",
    "               page_contents[c], str(embedding_vector))"
   ]
  },
  {
   "cell_type": "markdown",
   "id": "b174fb41-bc4d-4452-963c-0424489ed2b9",
   "metadata": {},
   "source": [
    "質問文から埋め込みベクトルを生成して、関連性の高いページ（埋め込みベクトルの値が近い）のトップ3を取得します。"
   ]
  },
  {
   "cell_type": "code",
   "execution_count": 10,
   "id": "48461e4b-b8d8-4654-9165-2b3de4ac4ffd",
   "metadata": {
    "tags": []
   },
   "outputs": [],
   "source": [
    "question = 'アジャイル開発の採用に慎重になるべきケースはありますか？'\n",
    "question_embedding = embeddings.embed_query(question)\n",
    "\n",
    "with pool.connect() as db_conn:\n",
    "    search_stmt = sqlalchemy.text(\n",
    "        'SELECT filename, page, content, \\\n",
    "                1 - (embedding <=> :question) AS similarity \\\n",
    "         FROM docs_embeddings \\\n",
    "         WHERE uid=:uid \\\n",
    "         ORDER BY similarity DESC LIMIT 3;'\n",
    "    )\n",
    "    parameters = {'uid': uid, 'question': str(question_embedding)}\n",
    "    results = db_conn.execute(search_stmt, parameters=parameters)\n",
    "\n",
    "text = ''\n",
    "source = []\n",
    "for filename, page, content, _ in results:\n",
    "    source.append({'filename': filename, 'page': page})\n",
    "    text += content + '\\n'"
   ]
  },
  {
   "cell_type": "code",
   "execution_count": 11,
   "id": "fb4d732d-dffb-4ab2-83d4-9f5d8f788d17",
   "metadata": {
    "tags": []
   },
   "outputs": [
    {
     "data": {
      "text/plain": [
       "[{'filename': 'agile-guidebook.pdf', 'page': 16},\n",
       " {'filename': 'agile-guidebook.pdf', 'page': 17},\n",
       " {'filename': 'agile-guidebook.pdf', 'page': 12}]"
      ]
     },
     "execution_count": 11,
     "metadata": {},
     "output_type": "execute_result"
    }
   ],
   "source": [
    "source"
   ]
  },
  {
   "cell_type": "markdown",
   "id": "a53a532c-6c19-4c30-a4ab-08361b194dfd",
   "metadata": {
    "tags": []
   },
   "source": [
    "得られたページのテキストに基づいて、質問の回答を生成します。"
   ]
  },
  {
   "cell_type": "code",
   "execution_count": 12,
   "id": "bcc2f809-91e5-4106-b164-46e769deca9c",
   "metadata": {
    "tags": []
   },
   "outputs": [
    {
     "name": "stdout",
     "output_type": "stream",
     "text": [
      " アジャイル開発の採用に慎重になるべきケースは、大規模な情報システム、業務内容等が極めて複雑、あるいはミッションクリティカルなケースです。このような場合は、どこまでをあらかじめ詳細化するか、どの部分をアジャイルに開発するか、また、どのように品質を確保し、継続的に高めていくかといった判断が必要となります。\n"
     ]
    }
   ],
   "source": [
    "from langchain.llms import VertexAI\n",
    "from langchain.text_splitter import RecursiveCharacterTextSplitter\n",
    "from langchain.chains.question_answering import load_qa_chain\n",
    "from langchain.chains import AnalyzeDocumentChain\n",
    "\n",
    "llm = VertexAI(model_name='text-bison@002', \n",
    "               temperature=0.1, max_output_tokens=256)\n",
    "text_splitter = RecursiveCharacterTextSplitter(\n",
    "    chunk_size=6000, chunk_overlap=200)\n",
    "qa_chain = load_qa_chain(llm, chain_type='refine')\n",
    "qa_document_chain = AnalyzeDocumentChain(\n",
    "    combine_docs_chain=qa_chain, text_splitter=text_splitter)\n",
    "\n",
    "prompt = '{} 日本語で3文程度にまとめて教えてください。'.format(question)\n",
    "print(qa_document_chain.run(input_document=text, question=prompt))"
   ]
  }
 ],
 "metadata": {
  "environment": {
   "kernel": "conda-root-py",
   "name": "workbench-notebooks.m113",
   "type": "gcloud",
   "uri": "gcr.io/deeplearning-platform-release/workbench-notebooks:m113"
  },
  "kernelspec": {
   "display_name": "Python 3 (ipykernel) (Local)",
   "language": "python",
   "name": "conda-root-py"
  },
  "language_info": {
   "codemirror_mode": {
    "name": "ipython",
    "version": 3
   },
   "file_extension": ".py",
   "mimetype": "text/x-python",
   "name": "python",
   "nbconvert_exporter": "python",
   "pygments_lexer": "ipython3",
   "version": "3.10.13"
  }
 },
 "nbformat": 4,
 "nbformat_minor": 5
}
