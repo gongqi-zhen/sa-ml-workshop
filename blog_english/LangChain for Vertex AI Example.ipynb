{
 "cells": [
  {
   "cell_type": "markdown",
   "id": "6bf9620b-996e-4ea5-bee0-6fe849794697",
   "metadata": {},
   "source": [
    "# Example of using PaLM API with LangChain"
   ]
  },
  {
   "cell_type": "markdown",
   "id": "09c67a32-707d-4fcb-a055-49cf45f393d0",
   "metadata": {},
   "source": [
    "# Preparation"
   ]
  },
  {
   "cell_type": "code",
   "execution_count": null,
   "id": "1f7d9945-38b6-4cc3-b1f9-69e77f399c14",
   "metadata": {},
   "outputs": [],
   "source": [
    "pip install --user langchain==0.0.260"
   ]
  },
  {
   "cell_type": "markdown",
   "id": "f4cae647-2309-43df-83ec-b3af9536bbb4",
   "metadata": {},
   "source": [
    "## Building a simple pipeline with LangChain"
   ]
  },
  {
   "cell_type": "code",
   "execution_count": 1,
   "id": "cf808798-147c-4a1d-b5ef-96c45dddd2a6",
   "metadata": {},
   "outputs": [],
   "source": [
    "from langchain import PromptTemplate\n",
    "\n",
    "template = \"\"\"\\\n",
    "You are a naming consultant for new products.\n",
    "Give me three examples of good names for a product.\n",
    "Output only names in a comma-separated list, nothing else.\n",
    "\n",
    "Here's an example.\n",
    "product: cute pens\n",
    "output: Scribble, Ink-it, Write-On\n",
    "\n",
    "Here's the real request to you.\n",
    "product: {description}\n",
    "output:\n",
    "\"\"\"\n",
    "\n",
    "prompt = PromptTemplate(template=template, input_variables=['description'])"
   ]
  },
  {
   "cell_type": "code",
   "execution_count": 2,
   "id": "50275d6e-35f4-4996-90ba-0f69c02db7ba",
   "metadata": {},
   "outputs": [
    {
     "name": "stdout",
     "output_type": "stream",
     "text": [
      "You are a naming consultant for new products.\n",
      "Give me three examples of good names for a product.\n",
      "Output only names in a comma-separated list, nothing else.\n",
      "\n",
      "Here's an example.\n",
      "product: cute pens\n",
      "output: Scribble, Ink-it, Write-On\n",
      "\n",
      "Here's the real request to you.\n",
      "product: Colorful cute smartphone covers for teenagers\n",
      "output:\n",
      "\n"
     ]
    }
   ],
   "source": [
    "print(prompt.format(description='Colorful cute smartphone covers for teenagers'))"
   ]
  },
  {
   "cell_type": "code",
   "execution_count": 3,
   "id": "779d90a2-2a32-4c6e-afb3-aedee9d3de20",
   "metadata": {},
   "outputs": [],
   "source": [
    "from langchain.llms import vertexai\n",
    "llm = vertexai.VertexAI(model_name='text-bison', temperature=0.4)"
   ]
  },
  {
   "cell_type": "code",
   "execution_count": 4,
   "id": "127b20da-1039-4cf1-b951-f551025b396a",
   "metadata": {},
   "outputs": [],
   "source": [
    "from langchain import LLMChain\n",
    "llm_chain = LLMChain(prompt=prompt, llm=llm)"
   ]
  },
  {
   "cell_type": "code",
   "execution_count": 5,
   "id": "ee0399c6-e184-460c-8854-59e47af174c0",
   "metadata": {},
   "outputs": [
    {
     "name": "stdout",
     "output_type": "stream",
     "text": [
      " 1. Pop-Art\n",
      "2. Color-Splash\n",
      "3. i-Candy\n"
     ]
    }
   ],
   "source": [
    "description = 'Colorful cute smartphone covers for teenagers'\n",
    "print(llm_chain.run(description))"
   ]
  },
  {
   "cell_type": "code",
   "execution_count": 6,
   "id": "747d8145-f282-4324-8348-dc71d73bd922",
   "metadata": {},
   "outputs": [],
   "source": [
    "from langchain.output_parsers import CommaSeparatedListOutputParser\n",
    "output_parser = CommaSeparatedListOutputParser()"
   ]
  },
  {
   "cell_type": "code",
   "execution_count": 7,
   "id": "76b89675-64c1-492d-b2a6-c42fd9d5ecdf",
   "metadata": {},
   "outputs": [
    {
     "data": {
      "text/plain": [
       "['Pop-Art', 'Bling-It', 'Glam-Case']"
      ]
     },
     "execution_count": 7,
     "metadata": {},
     "output_type": "execute_result"
    }
   ],
   "source": [
    "output_parser.parse(llm_chain.run(description))"
   ]
  },
  {
   "cell_type": "markdown",
   "id": "f7e9fa65-2aa6-4d8d-a5c6-c0c1d1bc48a1",
   "metadata": {},
   "source": [
    "## Using pydantic to convert a response in a predefined object"
   ]
  },
  {
   "cell_type": "code",
   "execution_count": 8,
   "id": "960038b1-c43f-44fc-890d-098ca04e3809",
   "metadata": {},
   "outputs": [],
   "source": [
    "from pydantic import BaseModel, Field\n",
    "\n",
    "class ProductNames(BaseModel):\n",
    "    setup: str = Field(description='product description')\n",
    "    product_name1: str = Field(description='product name 1')\n",
    "    product_name2: str = Field(description='product name 2')\n",
    "    product_name3: str = Field(description='product name 3')"
   ]
  },
  {
   "cell_type": "code",
   "execution_count": 9,
   "id": "e7e33593-cb7c-401a-a4da-c911f680f4e1",
   "metadata": {},
   "outputs": [],
   "source": [
    "from langchain.output_parsers import PydanticOutputParser\n",
    "parser = PydanticOutputParser(pydantic_object=ProductNames)"
   ]
  },
  {
   "cell_type": "code",
   "execution_count": 10,
   "id": "731301e9-550d-4a80-afb3-73359f13ae32",
   "metadata": {},
   "outputs": [
    {
     "name": "stdout",
     "output_type": "stream",
     "text": [
      "The output should be formatted as a JSON instance that conforms to the JSON schema below.\n",
      "\n",
      "As an example, for the schema {\"properties\": {\"foo\": {\"title\": \"Foo\", \"description\": \"a list of strings\", \"type\": \"array\", \"items\": {\"type\": \"string\"}}}, \"required\": [\"foo\"]}}\n",
      "the object {\"foo\": [\"bar\", \"baz\"]} is a well-formatted instance of the schema. The object {\"properties\": {\"foo\": [\"bar\", \"baz\"]}} is not well-formatted.\n",
      "\n",
      "Here is the output schema:\n",
      "```\n",
      "{\"properties\": {\"setup\": {\"title\": \"Setup\", \"description\": \"product description\", \"type\": \"string\"}, \"product_name1\": {\"title\": \"Product Name1\", \"description\": \"product name 1\", \"type\": \"string\"}, \"product_name2\": {\"title\": \"Product Name2\", \"description\": \"product name 2\", \"type\": \"string\"}, \"product_name3\": {\"title\": \"Product Name3\", \"description\": \"product name 3\", \"type\": \"string\"}}, \"required\": [\"setup\", \"product_name1\", \"product_name2\", \"product_name3\"]}\n",
      "```\n"
     ]
    }
   ],
   "source": [
    "print(parser.get_format_instructions())"
   ]
  },
  {
   "cell_type": "code",
   "execution_count": 11,
   "id": "b42d57da-b8b5-45f4-ab87-a71e12d49ea3",
   "metadata": {},
   "outputs": [],
   "source": [
    "template=\"\"\"\\\n",
    "Answer the user query.\n",
    "{format_instructions}\n",
    "You are a naming consultant for new products.\n",
    "Give me examples of good names for a product described as {description}\n",
    "\"\"\"\n",
    "\n",
    "prompt = PromptTemplate(\n",
    "    template=template,\n",
    "    input_variables=['description'],\n",
    "    partial_variables={'format_instructions': parser.get_format_instructions()}\n",
    ")\n",
    "\n",
    "llm_chain = LLMChain(prompt=prompt, llm=llm)"
   ]
  },
  {
   "cell_type": "code",
   "execution_count": 12,
   "id": "1d073b07-6a78-4863-901a-411dc73f82dd",
   "metadata": {},
   "outputs": [
    {
     "data": {
      "text/plain": [
       "ProductNames(setup=\"Super tough smartphone covers that wouldn't break even if an elephant stamps on them\", product_name1='Eleproof', product_name2='Tuff-Tech', product_name3='Armored Shield')"
      ]
     },
     "execution_count": 12,
     "metadata": {},
     "output_type": "execute_result"
    }
   ],
   "source": [
    "description = \"Super tough smartphone covers that wouldn't break even if an elephant stamps on them\"\n",
    "output = parser.parse(llm_chain.run(description))\n",
    "output\n"
   ]
  },
  {
   "cell_type": "code",
   "execution_count": 13,
   "id": "62500bd9-9c9c-4900-aade-ff3adc4cae7e",
   "metadata": {},
   "outputs": [
    {
     "data": {
      "text/plain": [
       "('Eleproof', 'Tuff-Tech', 'Armored Shield')"
      ]
     },
     "execution_count": 13,
     "metadata": {},
     "output_type": "execute_result"
    }
   ],
   "source": [
    "output.product_name1, output.product_name2, output.product_name3"
   ]
  },
  {
   "cell_type": "markdown",
   "id": "59a91d7c-16dc-46af-949d-6567fe8c59b6",
   "metadata": {},
   "source": [
    "## Defining a pipeline including the parser"
   ]
  },
  {
   "cell_type": "code",
   "execution_count": 14,
   "id": "9e1f1754-95c6-4ce4-b7b4-bd1ddf7e1bab",
   "metadata": {},
   "outputs": [],
   "source": [
    "from langchain.chains import TransformChain, SequentialChain\n",
    "\n",
    "llm_chain = LLMChain(prompt=prompt, llm=llm, output_key='json_string')\n",
    "\n",
    "def parse_output(inputs):\n",
    "    text = inputs['json_string']\n",
    "    return {'result': parser.parse(text)}\n",
    "\n",
    "transform_chain = TransformChain(\n",
    "    input_variables=['description'],\n",
    "    output_variables=['result'],\n",
    "    transform=parse_output\n",
    ")\n",
    "\n",
    "chain = SequentialChain(\n",
    "    input_variables=['description'],\n",
    "    output_variables=['result'],\n",
    "    chains=[llm_chain, transform_chain],\n",
    ")"
   ]
  },
  {
   "cell_type": "code",
   "execution_count": 15,
   "id": "fce7acc0-5a32-4665-a15d-5d815a853449",
   "metadata": {},
   "outputs": [
    {
     "data": {
      "text/plain": [
       "ProductNames(setup=\"Super tough smartphone covers that wouldn't break even if an elephant stamps on\", product_name1='Eleproof', product_name2='Tuff-Tech', product_name3='Armored Shield')"
      ]
     },
     "execution_count": 15,
     "metadata": {},
     "output_type": "execute_result"
    }
   ],
   "source": [
    "description = \"Super tough smartphone covers that wouldn't break even if an elephant stamps on\"\n",
    "chain.run(description=description)"
   ]
  }
 ],
 "metadata": {
  "kernelspec": {
   "display_name": "Python (Local)",
   "language": "python",
   "name": "local-base"
  },
  "language_info": {
   "codemirror_mode": {
    "name": "ipython",
    "version": 3
   },
   "file_extension": ".py",
   "mimetype": "text/x-python",
   "name": "python",
   "nbconvert_exporter": "python",
   "pygments_lexer": "ipython3",
   "version": "3.10.12"
  }
 },
 "nbformat": 4,
 "nbformat_minor": 5
}
