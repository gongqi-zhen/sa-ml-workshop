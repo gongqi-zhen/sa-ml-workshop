{
 "cells": [
  {
   "cell_type": "markdown",
   "id": "84b50b8c-4e4b-4b79-aecd-796526ac8b68",
   "metadata": {},
   "source": [
    "# Example notebook: Using Google Cloud's generative AI models (language models) from Python code."
   ]
  },
  {
   "cell_type": "markdown",
   "id": "116e3100-2e22-4fab-8dcd-1951cecf1863",
   "metadata": {},
   "source": [
    "Import client library and client object."
   ]
  },
  {
   "cell_type": "code",
   "execution_count": 1,
   "id": "bb042397-eb1b-4348-b5e1-c4fcfb24abd2",
   "metadata": {},
   "outputs": [],
   "source": [
    "from vertexai.preview.language_models import TextGenerationModel\n",
    "generation_model = TextGenerationModel.from_pretrained('text-bison@001')"
   ]
  },
  {
   "cell_type": "code",
   "execution_count": 2,
   "id": "0a836f88-bb44-4887-b8a7-fc7ad58fe121",
   "metadata": {},
   "outputs": [],
   "source": [
    "def show_answer(prompt):\n",
    "    answer = generation_model.predict(\n",
    "        prompt, temperature=0.2, max_output_tokens=1024,\n",
    "        top_k=40, top_p=0.8).text\n",
    "    print(answer)"
   ]
  },
  {
   "cell_type": "code",
   "execution_count": 3,
   "id": "876c4305-9400-464d-891b-d61cc12cffd0",
   "metadata": {},
   "outputs": [
    {
     "name": "stdout",
     "output_type": "stream",
     "text": [
      "**Headline:** Sustainable fashion: the future of fashion\n",
      "\n",
      "**Body:**\n",
      "\n",
      "The fashion industry is one of the most polluting industries in the world. It produces a huge amount of waste, and it uses a lot of resources, including water, energy, and chemicals.\n",
      "\n",
      "But there is a growing movement towards sustainable fashion. This is fashion that is produced in a way that is less harmful to the environment. Sustainable fashion brands use recycled materials, organic cotton, and other eco-friendly materials. They also use less water and energy, and they produce less waste.\n",
      "\n",
      "Sustainable fashion is not just good for the environment, it's also good for your health. Clothes made from synthetic materials can release harmful chemicals into the environment, and they can also irritate your skin. Clothes made from natural materials are better for your health and for the environment.\n",
      "\n",
      "If you want to make a difference, start by choosing sustainable fashion. Look for clothes that are made from recycled materials, organic cotton, and other eco-friendly materials. Choose brands that are committed to sustainability. And when you're done with your clothes, recycle them!\n",
      "\n",
      "**Call to action:**\n",
      "\n",
      "Make a difference for the planet and your health. Choose sustainable fashion.\n"
     ]
    }
   ],
   "source": [
    "prompt = \"Generate a marketing campaign for sustainability and fashion\"\n",
    "show_answer(prompt)"
   ]
  }
 ],
 "metadata": {
  "kernelspec": {
   "display_name": "Python (Local)",
   "language": "python",
   "name": "local-base"
  },
  "language_info": {
   "codemirror_mode": {
    "name": "ipython",
    "version": 3
   },
   "file_extension": ".py",
   "mimetype": "text/x-python",
   "name": "python",
   "nbconvert_exporter": "python",
   "pygments_lexer": "ipython3",
   "version": "3.10.12"
  }
 },
 "nbformat": 4,
 "nbformat_minor": 5
}
